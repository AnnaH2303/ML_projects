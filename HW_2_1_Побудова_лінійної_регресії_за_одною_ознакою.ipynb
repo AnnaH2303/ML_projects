{
 "cells": [
  {
   "cell_type": "markdown",
   "metadata": {
    "id": "EWomc9mXPTqZ"
   },
   "source": [
    "В цьому домашньому завданні кожне завдання оцінюється по 10 балів."
   ]
  },
  {
   "cell_type": "markdown",
   "metadata": {
    "id": "6c79c881"
   },
   "source": [
    " **Завдання 1.** Після перегляду лекцій про поняття функії, вступ до лінійної алгебри і мат. формулювання лін. регресії знайдіть найкращу лінію для прогнозу `charges` за `age` **для некурців** (датафрейм `non_smoker_df`) з допомогою\n",
    "\n",
    "1. Методу МНК (з використанням тільки `numpy`, без `scikit learn`)\n",
    "\n",
    "2. Full-Batch градієнтного спуску з `numpy` . Протестуйте 3 різних learning rate і зробіть висновок, який є найкращим виходячи з практик для цього, наведених в лекції. Зверніть увагу, що на вхід треба набір даних дворозміний, для цього можливо треба буде трансформувати Ваші дані X в формат, як був в лекції \"Математичне формулювання лінійної регресії\". Також, градієнтний спуск в нашому випадку може розходитись з навчальним рейтом 0.1, бо цей рейт в цій задачі завеликий. Спробуйте нижчі рейти.\n",
    "3. З `scikit-learn.LinearRegression`. Тут зверніть увагу, що вхід `X` має бути двовимірним масивом, тому нам потрібно передати dataframe, а не окрему колонку. Якщо у Вас X - колонка (а у Вас так мало б бути), то можна скористатись `X.to_frame()` щоб конвертувати колонку в датафрейм.\n",
    "\n",
    "Для кожного методу\n",
    "- знайдіть і виведіть коефіцієнти моделі\n",
    "- обчисліть прогнози моделі і збережіть в окрему змінну\n",
    "- порахуйте точність прогнозу RMSE  \n",
    "\n",
    "Для градієнтного спуску виведіть графік помилки в залежності від ітерації.\n",
    "\n",
    "А також побудуйте на одному графіку дані `age` проти `charges` в вигляді діаграми розсіювання і всі три лінії регресії, знайдені кожним з методів (для град. спуску оберіть варіант з тим learning rate, який виявився найкращим).\n",
    "\n",
    "Зробіть висновки, чи відрізняються результати моделей?\n",
    "Чи є знайдены параметри моделы близькими до ваших найкращих припущень?"
   ]
  },
  {
   "cell_type": "code",
   "execution_count": 1,
   "metadata": {
    "ExecuteTime": {
     "end_time": "2025-01-11T11:07:13.143370Z",
     "start_time": "2025-01-11T11:07:11.455514Z"
    },
    "id": "FQoRJkFUX6ln"
   },
   "outputs": [],
   "source": [
    "import pandas as pd\n",
    "import matplotlib.pyplot as plt\n",
    "import numpy as np\n",
    "from sklearn.linear_model import LinearRegression\n",
    "\n",
    "medical_df = pd.read_csv('data/medical-charges.csv')\n",
    "non_smoker_df = medical_df[medical_df.smoker == 'no']"
   ]
  },
  {
   "cell_type": "markdown",
   "metadata": {},
   "source": [
    "# Метод МНК"
   ]
  },
  {
   "cell_type": "code",
   "execution_count": 2,
   "metadata": {
    "ExecuteTime": {
     "end_time": "2025-01-11T11:07:14.472169Z",
     "start_time": "2025-01-11T11:07:14.454083Z"
    }
   },
   "outputs": [
    {
     "data": {
      "text/plain": [
       "array([[18],\n",
       "       [28],\n",
       "       [33],\n",
       "       ...,\n",
       "       [18],\n",
       "       [18],\n",
       "       [21]], dtype=int64)"
      ]
     },
     "execution_count": 2,
     "metadata": {},
     "output_type": "execute_result"
    }
   ],
   "source": [
    "# Формуємо матрицю-стовпець незалежних змінних (масив з єдиною характеристикою age)\n",
    "X = np.array(non_smoker_df[non_smoker_df.columns[:1]])\n",
    "X"
   ]
  },
  {
   "cell_type": "code",
   "execution_count": 3,
   "metadata": {
    "ExecuteTime": {
     "end_time": "2025-01-11T11:07:16.421603Z",
     "start_time": "2025-01-11T11:07:16.411653Z"
    }
   },
   "outputs": [
    {
     "data": {
      "text/plain": [
       "array([ 1725.5523 ,  4449.462  , 21984.47061, ...,  2205.9808 ,\n",
       "        1629.8335 ,  2007.945  ])"
      ]
     },
     "execution_count": 3,
     "metadata": {},
     "output_type": "execute_result"
    }
   ],
   "source": [
    "# Формуємо масив значень залежної змінної (charges)\n",
    "# y = np.array(non_smoker_df[non_smoker_df.columns[6:]])\n",
    "y = np.array(non_smoker_df.charges)\n",
    "y"
   ]
  },
  {
   "cell_type": "code",
   "execution_count": 4,
   "metadata": {
    "ExecuteTime": {
     "end_time": "2025-01-11T11:07:22.739982Z",
     "start_time": "2025-01-11T11:07:22.719656Z"
    }
   },
   "outputs": [
    {
     "data": {
      "text/plain": [
       "array([[ 1., 18.],\n",
       "       [ 1., 28.],\n",
       "       [ 1., 33.],\n",
       "       ...,\n",
       "       [ 1., 18.],\n",
       "       [ 1., 18.],\n",
       "       [ 1., 21.]])"
      ]
     },
     "execution_count": 4,
     "metadata": {},
     "output_type": "execute_result"
    }
   ],
   "source": [
    "# Додаємо стовпець одиничок, щоб отримати константу в моделі регресії\n",
    "X_with_intercept = np.c_[np.ones((X.shape[0], 1)), X]\n",
    "X_with_intercept"
   ]
  },
  {
   "cell_type": "code",
   "execution_count": 5,
   "metadata": {
    "ExecuteTime": {
     "end_time": "2025-01-11T11:07:26.900213Z",
     "start_time": "2025-01-11T11:07:26.882708Z"
    }
   },
   "outputs": [],
   "source": [
    "# Створюємо функцію для визначення коефіцієнтів лінійної регресії\n",
    "def normal_equations(X, y):\n",
    "    theta = np.linalg.inv(X.T.dot(X)).dot(X.T).dot(y)\n",
    "    return theta"
   ]
  },
  {
   "cell_type": "code",
   "execution_count": 6,
   "metadata": {
    "ExecuteTime": {
     "end_time": "2025-01-11T11:07:28.974879Z",
     "start_time": "2025-01-11T11:07:28.960957Z"
    }
   },
   "outputs": [
    {
     "data": {
      "text/plain": [
       "array([-2091.42055657,   267.24891283])"
      ]
     },
     "execution_count": 6,
     "metadata": {},
     "output_type": "execute_result"
    }
   ],
   "source": [
    "# Обчислюємо коефіцієнти лінійної регресії\n",
    "MNK_coefs = normal_equations(X_with_intercept, y)\n",
    "MNK_coefs"
   ]
  },
  {
   "cell_type": "code",
   "execution_count": 7,
   "metadata": {
    "ExecuteTime": {
     "end_time": "2025-01-11T11:07:30.385675Z",
     "start_time": "2025-01-11T11:07:30.374675Z"
    }
   },
   "outputs": [
    {
     "data": {
      "text/plain": [
       "array([2719.0598744 , 5391.54900271, 6727.79356686, ..., 2719.0598744 ,\n",
       "       2719.0598744 , 3520.80661289])"
      ]
     },
     "execution_count": 7,
     "metadata": {},
     "output_type": "execute_result"
    }
   ],
   "source": [
    "# Обчислюємо прогноз моделі за знайденими коефіцієнтами\n",
    "predictions_MNK = np.dot(X_with_intercept, MNK_coefs)\n",
    "predictions_MNK"
   ]
  },
  {
   "cell_type": "code",
   "execution_count": 8,
   "metadata": {
    "ExecuteTime": {
     "end_time": "2025-01-11T11:07:32.949870Z",
     "start_time": "2025-01-11T11:07:32.940850Z"
    }
   },
   "outputs": [
    {
     "data": {
      "text/plain": [
       "4662.505766636395"
      ]
     },
     "execution_count": 8,
     "metadata": {},
     "output_type": "execute_result"
    }
   ],
   "source": [
    "# Рахуємо точність прогнозу RMSE\n",
    "def rmse(targets, predictions):\n",
    "    return np.sqrt(np.mean(np.square(targets - predictions)))\n",
    "\n",
    "targets = y\n",
    "predictions = predictions_MNK\n",
    "\n",
    "rmse_MNK = rmse(targets, predictions)\n",
    "rmse_MNK"
   ]
  },
  {
   "cell_type": "markdown",
   "metadata": {},
   "source": [
    "# Full-Batch градієнтний спуск"
   ]
  },
  {
   "cell_type": "code",
   "execution_count": 9,
   "metadata": {
    "ExecuteTime": {
     "end_time": "2025-01-11T11:07:37.299670Z",
     "start_time": "2025-01-11T11:07:37.278356Z"
    }
   },
   "outputs": [],
   "source": [
    "# Задаємо функцію градієнтного спуску\n",
    "def full_batch_gradient_descent(X, y, lr = 0.05, epochs = 100):\n",
    "    m, b = 0.0, 0.0 # початкові значення\n",
    "    n = len(y) # величина набору\n",
    "    errors = []\n",
    "    for _ in range(epochs):\n",
    "        y_pred = m * X[:, 0] + b\n",
    "        error = y_pred - y\n",
    "        errors.append(sum(error**2))\n",
    "        m_gradient = (2/n) * np.dot(error, X[:, 0])\n",
    "        b_gradient = (2/n) * np.sum(error)\n",
    "        m = m - lr * m_gradient\n",
    "        b = b - lr * b_gradient\n",
    "    return m, b, errors"
   ]
  },
  {
   "cell_type": "code",
   "execution_count": 10,
   "metadata": {
    "ExecuteTime": {
     "end_time": "2025-01-11T11:07:43.963380Z",
     "start_time": "2025-01-11T11:07:43.834064Z"
    }
   },
   "outputs": [
    {
     "name": "stderr",
     "output_type": "stream",
     "text": [
      "C:\\Users\\Admin\\anaconda3\\envs\\py375\\lib\\site-packages\\ipykernel_launcher.py:9: RuntimeWarning: overflow encountered in double_scalars\n",
      "  if __name__ == \"__main__\":\n",
      "C:\\Users\\Admin\\anaconda3\\envs\\py375\\lib\\site-packages\\ipykernel_launcher.py:9: RuntimeWarning: overflow encountered in square\n",
      "  if __name__ == \"__main__\":\n",
      "C:\\Users\\Admin\\anaconda3\\envs\\py375\\lib\\site-packages\\ipykernel_launcher.py:12: RuntimeWarning: invalid value encountered in double_scalars\n",
      "  if sys.path[0] == \"\":\n"
     ]
    },
    {
     "data": {
      "text/plain": [
       "(nan, nan)"
      ]
     },
     "execution_count": 10,
     "metadata": {},
     "output_type": "execute_result"
    }
   ],
   "source": [
    "# Обчислюємо коефіцієнти лінійної регресії при learning rate = 0.001\n",
    "m1, b1, errors1 = full_batch_gradient_descent(X, y, lr = 0.001, epochs = 1000)\n",
    "m1, b1"
   ]
  },
  {
   "cell_type": "markdown",
   "metadata": {},
   "source": [
    "Отримана помилка \"overflow\" – модель не здатна розрахувати коефіцієнти при заданому learning rate. "
   ]
  },
  {
   "cell_type": "code",
   "execution_count": 11,
   "metadata": {
    "ExecuteTime": {
     "end_time": "2025-01-11T11:07:51.971577Z",
     "start_time": "2025-01-11T11:07:51.803459Z"
    }
   },
   "outputs": [
    {
     "data": {
      "text/plain": [
       "(225.1005806901033, -219.45815699658465)"
      ]
     },
     "execution_count": 11,
     "metadata": {},
     "output_type": "execute_result"
    }
   ],
   "source": [
    "# Обчислюємо коефіцієнти лінійної регресії при learning rate = 0.0005\n",
    "m2, b2, errors2 = full_batch_gradient_descent(X, y, lr = 0.0005, epochs = 1000)\n",
    "m2, b2"
   ]
  },
  {
   "cell_type": "markdown",
   "metadata": {},
   "source": [
    "Модель розрахувала коефіцієнти при learning rate = 0.0005, але коефіцієнт b сильно відрізняється від того, що був знайдений вище методом МНК.\\\n",
    "Розрахуємо коефіцієнти при тому самому learning rate, але збільшимо кількість ітерацій (щоб вона дійшла до кращого (відомого нам) значення)."
   ]
  },
  {
   "cell_type": "code",
   "execution_count": 12,
   "metadata": {
    "ExecuteTime": {
     "end_time": "2025-01-11T11:08:24.399209Z",
     "start_time": "2025-01-11T11:08:13.099743Z"
    }
   },
   "outputs": [
    {
     "data": {
      "text/plain": [
       "(267.24834166052585, -2091.395188775404)"
      ]
     },
     "execution_count": 12,
     "metadata": {},
     "output_type": "execute_result"
    }
   ],
   "source": [
    "# Обчислюємо коефіцієнти лінійної регресії при learning rate = 0.0005\n",
    "m3, b3, errors3 = full_batch_gradient_descent(X, y, lr = 0.0005, epochs = 100000)\n",
    "m3, b3"
   ]
  },
  {
   "cell_type": "code",
   "execution_count": 13,
   "metadata": {
    "ExecuteTime": {
     "end_time": "2025-01-11T11:08:25.484174Z",
     "start_time": "2025-01-11T11:08:25.472159Z"
    }
   },
   "outputs": [
    {
     "data": {
      "text/plain": [
       "array([2719.07496111, 5391.55837772, 6727.80008602, ..., 2719.07496111,\n",
       "       2719.07496111, 3520.8199861 ])"
      ]
     },
     "execution_count": 13,
     "metadata": {},
     "output_type": "execute_result"
    }
   ],
   "source": [
    "# Обчислюємо прогноз моделі за знайденими коефіцієнтами\n",
    "predictions_fbgd = m3 * X[:, 0] + b3\n",
    "predictions_fbgd"
   ]
  },
  {
   "cell_type": "code",
   "execution_count": 14,
   "metadata": {
    "ExecuteTime": {
     "end_time": "2025-01-11T11:08:52.405303Z",
     "start_time": "2025-01-11T11:08:52.387544Z"
    }
   },
   "outputs": [
    {
     "data": {
      "text/plain": [
       "4662.505766644212"
      ]
     },
     "execution_count": 14,
     "metadata": {},
     "output_type": "execute_result"
    }
   ],
   "source": [
    "# Рахуємо точність прогнозу RMSE\n",
    "rmse_fbgd = rmse(y, predictions_fbgd)\n",
    "rmse_fbgd"
   ]
  },
  {
   "cell_type": "code",
   "execution_count": 15,
   "metadata": {
    "ExecuteTime": {
     "end_time": "2025-01-11T11:08:57.521271Z",
     "start_time": "2025-01-11T11:08:56.894511Z"
    }
   },
   "outputs": [
    {
     "data": {
      "image/png": "[encoded data removed]",
      "text/plain": [
       "<Figure size 1200x500 with 3 Axes>"
      ]
     },
     "metadata": {},
     "output_type": "display_data"
    }
   ],
   "source": [
    "# Будуємо графік помилки в залежності від ітерації\n",
    "plt.figure(figsize =(12,5))\n",
    "\n",
    "plt.subplot(1,3,1)\n",
    "plt.plot(errors1, 'o', color = 'red')\n",
    "plt.title('learning rate = 0.001')\n",
    "plt.grid(True)\n",
    "\n",
    "plt.subplot(1,3,2)\n",
    "plt.plot(errors2, 'o', color = 'blue')\n",
    "plt.title('learning rate = 0.0005')\n",
    "plt.grid(True)\n",
    "\n",
    "plt.subplot(1,3,3)\n",
    "plt.plot(errors3, 'o', color = 'green')\n",
    "plt.title('learning rate = 0.0005')\n",
    "plt.grid(True)\n",
    "\n",
    "plt.show()"
   ]
  },
  {
   "cell_type": "markdown",
   "metadata": {},
   "source": [
    "З графіків видно, що при learning rate = 0.001 при збільшенні кількості ітерацій помилки в якийсь момент замість зменшення починають прямувати вверх, а при learning rate = 0.0005 навпаки – при збільшенні кількості ітерацій величина помилки зменшується. "
   ]
  },
  {
   "cell_type": "markdown",
   "metadata": {},
   "source": [
    "# Scikit-learn.LinearRegression"
   ]
  },
  {
   "cell_type": "code",
   "execution_count": 16,
   "metadata": {
    "ExecuteTime": {
     "end_time": "2025-01-11T11:09:35.650914Z",
     "start_time": "2025-01-11T11:09:35.629372Z"
    }
   },
   "outputs": [
    {
     "data": {
      "text/plain": [
       "LinearRegression()"
      ]
     },
     "execution_count": 16,
     "metadata": {},
     "output_type": "execute_result"
    }
   ],
   "source": [
    "# Модель лінійної регресії засобами Scikit-learn (МНК)\n",
    "lin_reg = LinearRegression()\n",
    "lin_reg.fit(X, y)"
   ]
  },
  {
   "cell_type": "code",
   "execution_count": 17,
   "metadata": {
    "ExecuteTime": {
     "end_time": "2025-01-11T11:09:36.459859Z",
     "start_time": "2025-01-11T11:09:36.448852Z"
    }
   },
   "outputs": [
    {
     "data": {
      "text/plain": [
       "(array([267.24891283]), -2091.4205565650864)"
      ]
     },
     "execution_count": 17,
     "metadata": {},
     "output_type": "execute_result"
    }
   ],
   "source": [
    "# Обчислюємо коефіцієнти лінійної регресії\n",
    "lin_reg.coef_, lin_reg.intercept_"
   ]
  },
  {
   "cell_type": "code",
   "execution_count": 18,
   "metadata": {
    "ExecuteTime": {
     "end_time": "2025-01-11T11:09:37.217437Z",
     "start_time": "2025-01-11T11:09:37.200290Z"
    }
   },
   "outputs": [
    {
     "data": {
      "text/plain": [
       "array([2719.0598744 , 5391.54900271, 6727.79356686, ..., 2719.0598744 ,\n",
       "       2719.0598744 , 3520.80661289])"
      ]
     },
     "execution_count": 18,
     "metadata": {},
     "output_type": "execute_result"
    }
   ],
   "source": [
    "# Обчислюємо прогноз моделі\n",
    "predictions_sklearn = lin_reg.predict(X)\n",
    "predictions_sklearn"
   ]
  },
  {
   "cell_type": "code",
   "execution_count": 19,
   "metadata": {
    "ExecuteTime": {
     "end_time": "2025-01-11T11:09:37.978326Z",
     "start_time": "2025-01-11T11:09:37.961494Z"
    }
   },
   "outputs": [
    {
     "data": {
      "text/plain": [
       "4662.505766636395"
      ]
     },
     "execution_count": 19,
     "metadata": {},
     "output_type": "execute_result"
    }
   ],
   "source": [
    "# Рахуємо точність прогнозу RMSE\n",
    "rmse_sklearn = rmse(y, predictions_sklearn)\n",
    "rmse_sklearn"
   ]
  },
  {
   "cell_type": "markdown",
   "metadata": {
    "ExecuteTime": {
     "end_time": "2025-01-10T16:58:55.508065Z",
     "start_time": "2025-01-10T16:58:55.502161Z"
    }
   },
   "source": [
    "# Порівняння ліній регресії, знайдених різними методами"
   ]
  },
  {
   "cell_type": "code",
   "execution_count": 20,
   "metadata": {
    "ExecuteTime": {
     "end_time": "2025-01-11T11:09:44.132196Z",
     "start_time": "2025-01-11T11:09:43.912980Z"
    },
    "scrolled": false
   },
   "outputs": [
    {
     "data": {
      "image/png": "[encoded data removed]",
      "text/plain": [
       "<Figure size 1000x600 with 1 Axes>"
      ]
     },
     "metadata": {},
     "output_type": "display_data"
    }
   ],
   "source": [
    "# Візуалізація результатів\n",
    "plt.figure(figsize = (10, 6))\n",
    "plt.scatter(X[:, 0], y, color = 'blue', label = 'Data points')\n",
    "plt.plot(X[:, 0], predictions_MNK, color = 'red', label = 'MNK')\n",
    "plt.plot(X[:, 0], predictions_fbgd, color = 'green', label = 'fbgd')\n",
    "plt.plot(X[:, 0], predictions_sklearn, color = 'orange', label = 'sklearn')\n",
    "plt.xlabel('Значення змінної')\n",
    "plt.ylabel('Цільове значення')\n",
    "plt.legend()\n",
    "plt.grid(True)\n",
    "plt.show()"
   ]
  },
  {
   "cell_type": "code",
   "execution_count": 21,
   "metadata": {
    "ExecuteTime": {
     "end_time": "2025-01-11T11:09:47.599588Z",
     "start_time": "2025-01-11T11:09:47.589721Z"
    }
   },
   "outputs": [
    {
     "name": "stdout",
     "output_type": "stream",
     "text": [
      "Коефіцієнти з МНК:  [-2091.42055657   267.24891283]\n",
      "Коефіцієнти з full-batch град. спуску:  -2091.395188775404 267.24834166052585\n",
      "Коефіцієнти з sklearn:  -2091.4205565650864 [267.24891283]\n"
     ]
    }
   ],
   "source": [
    "print('Коефіцієнти з МНК: ', MNK_coefs)\n",
    "print('Коефіцієнти з full-batch град. спуску: ', b3, m3)\n",
    "print('Коефіцієнти з sklearn: ', lin_reg.intercept_, lin_reg.coef_)"
   ]
  },
  {
   "cell_type": "code",
   "execution_count": 22,
   "metadata": {
    "ExecuteTime": {
     "end_time": "2025-01-11T11:09:48.295941Z",
     "start_time": "2025-01-11T11:09:48.276847Z"
    }
   },
   "outputs": [
    {
     "name": "stdout",
     "output_type": "stream",
     "text": [
      "Прогноз з МНК:  [2719.0598744  5391.54900271 6727.79356686 ... 2719.0598744  2719.0598744\n",
      " 3520.80661289]\n",
      "Прогноз з full-batch град. спуску:  [2719.07496111 5391.55837772 6727.80008602 ... 2719.07496111 2719.07496111\n",
      " 3520.8199861 ]\n",
      "Прогноз з sklearn:  [2719.0598744  5391.54900271 6727.79356686 ... 2719.0598744  2719.0598744\n",
      " 3520.80661289]\n"
     ]
    }
   ],
   "source": [
    "print('Прогноз з МНК: ', predictions_MNK)\n",
    "print('Прогноз з full-batch град. спуску: ', predictions_fbgd)\n",
    "print('Прогноз з sklearn: ', predictions_sklearn)"
   ]
  },
  {
   "cell_type": "code",
   "execution_count": 23,
   "metadata": {
    "ExecuteTime": {
     "end_time": "2025-01-11T11:09:48.775336Z",
     "start_time": "2025-01-11T11:09:48.768335Z"
    }
   },
   "outputs": [
    {
     "name": "stdout",
     "output_type": "stream",
     "text": [
      "Точність прогнозу RMSE з МНК: 4662.505766636395\n",
      "Точність прогнозу RMSE з full-batch град. спуску: 4662.505766644212\n",
      "Точність прогнозу RMSE з sklearn: 4662.505766636395\n"
     ]
    }
   ],
   "source": [
    "print('Точність прогнозу RMSE з МНК:', rmse_MNK)\n",
    "print('Точність прогнозу RMSE з full-batch град. спуску:', rmse_fbgd)\n",
    "print('Точність прогнозу RMSE з sklearn:', rmse_sklearn)"
   ]
  },
  {
   "cell_type": "markdown",
   "metadata": {},
   "source": [
    "**Висновок:** результати трьох моделей практично однакові – це видно з числових значень і з графіка (всі три лінії регресії співпадають). Значення коефіцієнтів схожі до тих, що раніше (в попередніх ДЗ) були знайдені методом підбору."
   ]
  },
  {
   "cell_type": "markdown",
   "metadata": {
    "id": "eaf4b75b"
   },
   "source": [
    " **Завдання 2.** Навчіть модель лінійної регресії з допомогою sklearn оцінювати розмір медичних збори для **курців** за їх віком.\n",
    "Виведіть\n",
    "- точність моделі\n",
    "-  коефіцієнти\n",
    "-  візуалізуйте модель у вигляді лінії на графіку розсіювання `age` проти `charges`\n",
    "\n",
    "і зробіть висновки, чи це хороша модель, чи ви б її використовували в компанії?"
   ]
  },
  {
   "cell_type": "code",
   "execution_count": 24,
   "metadata": {
    "ExecuteTime": {
     "end_time": "2025-01-11T11:11:01.382155Z",
     "start_time": "2025-01-11T11:11:01.369605Z"
    },
    "id": "56e996b8"
   },
   "outputs": [],
   "source": [
    "smoker_df = medical_df[medical_df.smoker == 'yes']"
   ]
  },
  {
   "cell_type": "code",
   "execution_count": 25,
   "metadata": {
    "ExecuteTime": {
     "end_time": "2025-01-11T11:11:02.750382Z",
     "start_time": "2025-01-11T11:11:02.730908Z"
    }
   },
   "outputs": [],
   "source": [
    "# Формуємо матрицю-стовпець незалежних змінних (масив з єдиною характеристикою age) і масив значень залежної змінної (charges)\n",
    "X1 = np.array(smoker_df[smoker_df.columns[:1]])\n",
    "y1 = np.array(smoker_df.charges)"
   ]
  },
  {
   "cell_type": "code",
   "execution_count": 26,
   "metadata": {
    "ExecuteTime": {
     "end_time": "2025-01-11T11:11:17.900253Z",
     "start_time": "2025-01-11T11:11:17.887548Z"
    }
   },
   "outputs": [
    {
     "data": {
      "text/plain": [
       "LinearRegression()"
      ]
     },
     "execution_count": 26,
     "metadata": {},
     "output_type": "execute_result"
    }
   ],
   "source": [
    "lin_reg1 = LinearRegression()\n",
    "lin_reg1.fit(X1, y1)"
   ]
  },
  {
   "cell_type": "code",
   "execution_count": 27,
   "metadata": {
    "ExecuteTime": {
     "end_time": "2025-01-11T11:11:23.381261Z",
     "start_time": "2025-01-11T11:11:23.362609Z"
    }
   },
   "outputs": [
    {
     "data": {
      "text/plain": [
       "(array([305.23760211]), 20294.12812691597)"
      ]
     },
     "execution_count": 27,
     "metadata": {},
     "output_type": "execute_result"
    }
   ],
   "source": [
    "# Обчислюємо коефіцієнти лінійної регресії\n",
    "lin_reg1.coef_, lin_reg1.intercept_"
   ]
  },
  {
   "cell_type": "code",
   "execution_count": 28,
   "metadata": {
    "ExecuteTime": {
     "end_time": "2025-01-11T11:11:30.645259Z",
     "start_time": "2025-01-11T11:11:30.632126Z"
    }
   },
   "outputs": [],
   "source": [
    "# Обчислюємо прогноз моделі\n",
    "predictions_sklearn_1 = lin_reg1.predict(X1)"
   ]
  },
  {
   "cell_type": "code",
   "execution_count": 29,
   "metadata": {
    "ExecuteTime": {
     "end_time": "2025-01-11T11:11:42.051811Z",
     "start_time": "2025-01-11T11:11:42.044734Z"
    }
   },
   "outputs": [
    {
     "data": {
      "text/plain": [
       "10711.00334810241"
      ]
     },
     "execution_count": 29,
     "metadata": {},
     "output_type": "execute_result"
    }
   ],
   "source": [
    "# Рахуємо точність прогнозу RMSE\n",
    "rmse_sklearn_1 = rmse(y1, predictions_sklearn_1)\n",
    "rmse_sklearn_1"
   ]
  },
  {
   "cell_type": "code",
   "execution_count": 30,
   "metadata": {
    "ExecuteTime": {
     "end_time": "2025-01-11T11:11:48.098858Z",
     "start_time": "2025-01-11T11:11:47.949733Z"
    }
   },
   "outputs": [
    {
     "data": {
      "image/png": "[encoded data removed]",
      "text/plain": [
       "<Figure size 1000x600 with 1 Axes>"
      ]
     },
     "metadata": {},
     "output_type": "display_data"
    }
   ],
   "source": [
    "# Візуалізація результатів\n",
    "plt.figure(figsize = (10, 6))\n",
    "plt.scatter(X1[:, 0], y1, color = 'blue', label = 'Data points')\n",
    "plt.plot(X1[:, 0], predictions_sklearn_1, color = 'orange', label = 'sklearn')\n",
    "plt.xlabel('Значення змінної')\n",
    "plt.ylabel('Цільове значення')\n",
    "plt.legend()\n",
    "plt.grid(True)\n",
    "plt.show()"
   ]
  },
  {
   "cell_type": "code",
   "execution_count": 31,
   "metadata": {
    "ExecuteTime": {
     "end_time": "2025-01-11T11:11:55.891066Z",
     "start_time": "2025-01-11T11:11:55.874973Z"
    }
   },
   "outputs": [
    {
     "data": {
      "text/plain": [
       "0.13558924096084068"
      ]
     },
     "execution_count": 31,
     "metadata": {},
     "output_type": "execute_result"
    }
   ],
   "source": [
    "# Оцінюємо якість моделі, обчисливши коефіцієнт детермінації R^2 (варіант 1)\n",
    "def r_square(targets, predictions):\n",
    "    return 1 - (np.sum(np.square(targets - predictions)) / np.sum(np.square(targets - np.mean(targets))))\n",
    "\n",
    "targets = y1\n",
    "predictions = predictions_sklearn_1\n",
    "\n",
    "r_square(targets, predictions)"
   ]
  },
  {
   "cell_type": "markdown",
   "metadata": {
    "ExecuteTime": {
     "end_time": "2025-01-11T10:39:51.262023Z",
     "start_time": "2025-01-11T10:39:51.247449Z"
    }
   },
   "source": [
    "**Висновок:** коефіцієнт детермінації R^2 близький до нуля, а значить модель погано апроксимована до реальних даних і її краще не використовувати в компанії."
   ]
  },
  {
   "cell_type": "code",
   "execution_count": 32,
   "metadata": {
    "ExecuteTime": {
     "end_time": "2025-01-11T11:12:21.342368Z",
     "start_time": "2025-01-11T11:12:21.323259Z"
    }
   },
   "outputs": [
    {
     "data": {
      "text/plain": [
       "11520.46670652943"
      ]
     },
     "execution_count": 32,
     "metadata": {},
     "output_type": "execute_result"
    }
   ],
   "source": [
    "# Оцінюємо якість моделі, порівнявши стандартне відхилення реальних значень з RMSE (варіант 2)\n",
    "y1.std()"
   ]
  },
  {
   "cell_type": "markdown",
   "metadata": {
    "ExecuteTime": {
     "end_time": "2025-01-11T10:44:15.471889Z",
     "start_time": "2025-01-11T10:44:15.456671Z"
    }
   },
   "source": [
    "**Висновок:** оскільки величина розкиду таргетних значень майже така ж як RMSE (11520.46670652943 проти 10711.00334810241), значить модель погано описує реальні дані. "
   ]
  }
 ],
 "metadata": {
  "colab": {
   "provenance": []
  },
  "kernelspec": {
   "display_name": "Python 3 (ipykernel)",
   "language": "python",
   "name": "python3"
  },
  "language_info": {
   "codemirror_mode": {
    "name": "ipython",
    "version": 3
   },
   "file_extension": ".py",
   "mimetype": "text/x-python",
   "name": "python",
   "nbconvert_exporter": "python",
   "pygments_lexer": "ipython3",
   "version": "3.7.5"
  },
  "toc": {
   "base_numbering": 1,
   "nav_menu": {},
   "number_sections": true,
   "sideBar": true,
   "skip_h1_title": false,
   "title_cell": "Table of Contents",
   "title_sidebar": "Contents",
   "toc_cell": false,
   "toc_position": {},
   "toc_section_display": true,
   "toc_window_display": false
  }
 },
 "nbformat": 4,
 "nbformat_minor": 1
}
