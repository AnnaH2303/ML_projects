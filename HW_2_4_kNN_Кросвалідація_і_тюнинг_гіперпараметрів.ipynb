{
 "cells": [
  {
   "cell_type": "markdown",
   "metadata": {
    "id": "fDefDHQt8LXC"
   },
   "source": [
    "В цьому домашньому завданні ми знову працюємо з даними з нашого змагання [\"Bank Customer Churn Prediction (DLU Course)\"](https://www.kaggle.com/t/7c080c5d8ec64364a93cf4e8f880b6a0).\n",
    "\n",
    "Тут ми побудуємо рішення задачі класифікації з використанням kNearestNeighboors, знайдемо оптимальні гіперпараметри для цього методу і зробимо базові ансамблі. Це дасть змогу порівняти перформанс моделі з попередніми вивченими методами."
   ]
  },
  {
   "cell_type": "markdown",
   "metadata": {
    "id": "LhivzW9W8-Dz"
   },
   "source": [
    "0. Зчитайте дані `train.csv` та зробіть препроцесинг використовуючи написаний Вами скрипт `process_bank_churn.py` так, аби в результаті отримати дані в розбитті X_train, train_targets, X_val, val_targets для експериментів.\n",
    "\n",
    "  Якщо Вам не вдалось реалізувати в завданні `2.3. Дерева прийняття рішень` скрипт `process_bank_churn.py` - можна скористатись готовим скриптом з запропонованого рішення того завдання."
   ]
  },
  {
   "cell_type": "code",
   "execution_count": 1,
   "metadata": {
    "ExecuteTime": {
     "end_time": "2025-02-20T19:03:02.057970Z",
     "start_time": "2025-02-20T19:03:01.473894Z"
    },
    "id": "Z-mntPMAH-rv"
   },
   "outputs": [],
   "source": [
    "# Імпорт загальних бібліотек\n",
    "\n",
    "import pandas as pd\n",
    "import numpy as np\n",
    "\n",
    "from sklearn.tree import DecisionTreeClassifier\n",
    "from sklearn.metrics import roc_curve, auc\n",
    "\n",
    "from sklearn.model_selection import GridSearchCV, RandomizedSearchCV\n",
    "from sklearn.neighbors import KNeighborsClassifier\n",
    "\n",
    "import warnings\n",
    "warnings.filterwarnings('ignore')"
   ]
  },
  {
   "cell_type": "code",
   "execution_count": 2,
   "metadata": {
    "ExecuteTime": {
     "end_time": "2025-02-20T19:03:02.925205Z",
     "start_time": "2025-02-20T19:03:02.880515Z"
    }
   },
   "outputs": [],
   "source": [
    "# Зчитування даних\n",
    "\n",
    "raw_df = pd.read_csv('./bank-customer-churn-prediction-dlu-course-c-2/train.csv')\n",
    "\n",
    "# Задання початкових умов\n",
    "\n",
    "drop_cols = ['id', 'CustomerId', 'Surname']\n",
    "scaler_numeric = False"
   ]
  },
  {
   "cell_type": "code",
   "execution_count": 3,
   "metadata": {
    "ExecuteTime": {
     "end_time": "2025-02-20T19:03:04.255615Z",
     "start_time": "2025-02-20T19:03:04.160322Z"
    }
   },
   "outputs": [],
   "source": [
    "# Імпорт функції preprocess_data з process_bank_churn.py\n",
    "\n",
    "%load_ext autoreload\n",
    "%autoreload 2\n",
    "\n",
    "from process_bank_churn import preprocess_data"
   ]
  },
  {
   "cell_type": "code",
   "execution_count": 4,
   "metadata": {
    "ExecuteTime": {
     "end_time": "2025-02-20T19:03:05.758696Z",
     "start_time": "2025-02-20T19:03:05.660084Z"
    }
   },
   "outputs": [],
   "source": [
    "data, input_cols, scaler, encoder = preprocess_data(raw_df, drop_cols, scaler_numeric)"
   ]
  },
  {
   "cell_type": "code",
   "execution_count": 5,
   "metadata": {
    "ExecuteTime": {
     "end_time": "2025-02-20T19:03:06.564156Z",
     "start_time": "2025-02-20T19:03:06.494688Z"
    }
   },
   "outputs": [],
   "source": [
    "X_train = data['train_X']\n",
    "train_targets = data['train_y']\n",
    "X_val = data['val_X']\n",
    "val_targets = data['val_y']"
   ]
  },
  {
   "cell_type": "markdown",
   "metadata": {
    "id": "_LxWkv4o-wMe"
   },
   "source": [
    "1. Навчіть на цих даних класифікатор kNN з параметрами за замовченням і виміряйте точність з допомогою AUROC на тренувальному та валідаційному наборах. Зробіть заключення про отриману модель: вона хороша/погана, чи є high bias/high variance?"
   ]
  },
  {
   "cell_type": "code",
   "execution_count": 6,
   "metadata": {
    "ExecuteTime": {
     "end_time": "2025-02-20T19:03:08.455228Z",
     "start_time": "2025-02-20T19:03:08.336804Z"
    },
    "id": "1TH7H_Z9IAHD"
   },
   "outputs": [
    {
     "data": {
      "text/plain": [
       "KNeighborsClassifier()"
      ]
     },
     "execution_count": 6,
     "metadata": {},
     "output_type": "execute_result"
    }
   ],
   "source": [
    "# Навчання класифікатора kNN\n",
    "\n",
    "knn = KNeighborsClassifier()\n",
    "knn.fit(X_train, train_targets)"
   ]
  },
  {
   "cell_type": "code",
   "execution_count": 7,
   "metadata": {
    "ExecuteTime": {
     "end_time": "2025-02-20T19:03:09.805804Z",
     "start_time": "2025-02-20T19:03:09.716140Z"
    }
   },
   "outputs": [],
   "source": [
    "# Функція для підрахунку метрики AUROC\n",
    "\n",
    "def pred_auroc(model, inputs, targets, name = ''):\n",
    "\n",
    "    # Predict probabilities\n",
    "    pred_proba = model.predict_proba(inputs)[:, 1]\n",
    "    \n",
    "    # Compute ROC curve\n",
    "    fpr, tpr, threshold = roc_curve(targets, pred_proba, pos_label = 1)\n",
    "    \n",
    "    # Compute AUROC\n",
    "    roc_auc = auc(fpr, tpr)\n",
    "    print(f\"Area under ROC score on {name} dataset: {roc_auc:.2%}\")\n",
    "  \n",
    "    return roc_auc"
   ]
  },
  {
   "cell_type": "code",
   "execution_count": 8,
   "metadata": {
    "ExecuteTime": {
     "end_time": "2025-02-20T19:03:10.967502Z",
     "start_time": "2025-02-20T19:03:10.768677Z"
    }
   },
   "outputs": [
    {
     "name": "stdout",
     "output_type": "stream",
     "text": [
      "Area under ROC score on Training dataset: 82.28%\n",
      "Area under ROC score on Validation dataset: 57.83%\n"
     ]
    }
   ],
   "source": [
    "# Розрахунок точності на тренувальному і валідаційному наборах за допомогою AUROC\n",
    "\n",
    "roc_auc_train = pred_auroc(knn, X_train, train_targets, 'Training')\n",
    "roc_auc_val = pred_auroc(knn, X_val, val_targets, 'Validation')"
   ]
  },
  {
   "cell_type": "markdown",
   "metadata": {},
   "source": [
    "**Висновок**:\\\n",
    "Враховуючи, що `AUROC` на валідаційних даних (57,83%) значно нижчий, ніж на тренувальних (82,28%), можна зробити висновок, що модель перетренована.  "
   ]
  },
  {
   "cell_type": "markdown",
   "metadata": {
    "id": "U4hm5qYs_f7x"
   },
   "source": [
    "2. Використовуючи `GridSearchCV` знайдіть оптимальне значення параметра `n_neighbors` для класифікатора `kNN`. Псотавте крос валідацію на 5 фолдів.\n",
    "\n",
    "  Після успішного завершення пошуку оптимального гіперпараметра\n",
    "    - виведіть найкраще значення параметра\n",
    "    - збережіть в окрему змінну `knn_best` найкращу модель, знайдену з `GridSearchCV`\n",
    "    - оцініть якість передбачень  `knn_best` на тренувальній і валідаційній вибірці з допомогою AUROC.\n",
    "    - зробіть висновок про якість моделі. Чи стала вона краще порівняно з попереднім пукнтом (2) цього завдання? Чи є вона краще за дерево прийняття рішень з попереднього ДЗ?"
   ]
  },
  {
   "cell_type": "code",
   "execution_count": 9,
   "metadata": {
    "ExecuteTime": {
     "end_time": "2025-02-20T19:03:28.948151Z",
     "start_time": "2025-02-20T19:03:15.574970Z"
    }
   },
   "outputs": [
    {
     "data": {
      "text/plain": [
       "GridSearchCV(cv=5, estimator=KNeighborsClassifier(),\n",
       "             param_grid={'n_neighbors': array([ 1,  2,  3,  4,  5,  6,  7,  8,  9, 10, 11, 12, 13, 14, 15, 16, 17,\n",
       "       18, 19, 20, 21, 22, 23, 24])})"
      ]
     },
     "execution_count": 9,
     "metadata": {},
     "output_type": "execute_result"
    }
   ],
   "source": [
    "# Пошук оптимального значення параметра n_neighbors для класифікатора kNN \n",
    "\n",
    "params_knn = {'n_neighbors': np.arange(1, 25)}\n",
    "knn_gs = GridSearchCV(knn, params_knn, cv=5)\n",
    "knn_gs.fit(X_train, train_targets)"
   ]
  },
  {
   "cell_type": "code",
   "execution_count": 10,
   "metadata": {
    "ExecuteTime": {
     "end_time": "2025-02-20T19:03:31.778113Z",
     "start_time": "2025-02-20T19:03:31.709041Z"
    }
   },
   "outputs": [
    {
     "name": "stdout",
     "output_type": "stream",
     "text": [
      "{'n_neighbors': 24}\n"
     ]
    }
   ],
   "source": [
    "# Найкраща модель, найкраще значення параметра\n",
    "\n",
    "knn_best = knn_gs.best_estimator_\n",
    "\n",
    "print(knn_gs.best_params_)"
   ]
  },
  {
   "cell_type": "code",
   "execution_count": 11,
   "metadata": {
    "ExecuteTime": {
     "end_time": "2025-02-20T19:03:33.374579Z",
     "start_time": "2025-02-20T19:03:33.117151Z"
    }
   },
   "outputs": [
    {
     "name": "stdout",
     "output_type": "stream",
     "text": [
      "Area under ROC score on Training dataset: 68.85%\n",
      "Area under ROC score on Validation dataset: 60.86%\n"
     ]
    }
   ],
   "source": [
    "# Оцінка якості передбачень knn_best на тренувальній і валідаційній вибірці з допомогою AUROC\n",
    "\n",
    "roc_auc_train = pred_auroc(knn_best, X_train, train_targets, 'Training')\n",
    "roc_auc_val = pred_auroc(knn_best, X_val, val_targets, 'Validation')"
   ]
  },
  {
   "cell_type": "markdown",
   "metadata": {
    "ExecuteTime": {
     "end_time": "2025-02-19T18:37:25.710898Z",
     "start_time": "2025-02-19T18:37:25.613829Z"
    },
    "id": "a50AtDZ9IDNx"
   },
   "source": [
    "**Висновок**:\\\n",
    "Модель незначно покращилась в порівнянні з попердньою (AUROC на валідаційному наборі 60,86% проти 57,83%).\\\n",
    "Але стала значно гіршою за результат, який показало дерево прийняття рішень в попередньому ДЗ (там AUROC на валідаційних даних перевищував 92%)."
   ]
  },
  {
   "cell_type": "markdown",
   "metadata": {
    "id": "Vg77SVWrBBmU"
   },
   "source": [
    "3. Виконайте пошук оптимальних гіперпараметрів для `DecisionTreeClassifier` з `GridSearchCV` за сіткою параметрів\n",
    "  - `max_depth` від 1 до 20 з кроком 2\n",
    "  - `max_leaf_nodes` від 2 до 10 з кроком 1\n",
    "\n",
    "  Обовʼязково при цьому ініціюйте модель з фіксацією `random_state`.\n",
    "\n",
    "  Поставте кросвалідацію на 3 фолди, `scoring='roc_auc'`, та виміряйте, скільки часу потребує пошук оптимальних гіперпараметрів.\n",
    "\n",
    "  Після успішного завершення пошуку оптимальних гіперпараметрів\n",
    "    - виведіть найкращі значення параметра\n",
    "    - збережіть в окрему змінну `dt_best` найкращу модель, знайдену з `GridSearchCV`\n",
    "    - оцініть якість передбачень  `dt_best` на тренувальній і валідаційній вибірці з допомогою AUROC.\n",
    "    - зробіть висновок про якість моделі. Чи ця модель краща за ту, що ви знайшли вручну?"
   ]
  },
  {
   "cell_type": "code",
   "execution_count": 12,
   "metadata": {
    "ExecuteTime": {
     "end_time": "2025-02-20T19:03:53.549676Z",
     "start_time": "2025-02-20T19:03:50.037460Z"
    },
    "id": "RVg6jX-7IEwl"
   },
   "outputs": [
    {
     "name": "stdout",
     "output_type": "stream",
     "text": [
      "Wall time: 3.43 s\n"
     ]
    },
    {
     "data": {
      "text/plain": [
       "GridSearchCV(cv=3, estimator=DecisionTreeClassifier(random_state=42),\n",
       "             param_grid={'max_depth': array([ 1,  3,  5,  7,  9, 11, 13, 15, 17, 19]),\n",
       "                         'max_leaf_nodes': array([2, 3, 4, 5, 6, 7, 8, 9])},\n",
       "             scoring='roc_auc')"
      ]
     },
     "execution_count": 12,
     "metadata": {},
     "output_type": "execute_result"
    }
   ],
   "source": [
    "%%time\n",
    "dt = DecisionTreeClassifier(random_state = 42)\n",
    "params_dt = {'max_depth': np.arange(1, 20, 2), 'max_leaf_nodes': np.arange(2, 10, 1)}\n",
    "dt_gs = GridSearchCV(dt, params_dt, cv = 3, scoring='roc_auc')\n",
    "dt_gs.fit(X_train, train_targets)"
   ]
  },
  {
   "cell_type": "code",
   "execution_count": 13,
   "metadata": {
    "ExecuteTime": {
     "end_time": "2025-02-20T19:03:55.693481Z",
     "start_time": "2025-02-20T19:03:55.605269Z"
    }
   },
   "outputs": [
    {
     "name": "stdout",
     "output_type": "stream",
     "text": [
      "{'max_depth': 5, 'max_leaf_nodes': 9}\n"
     ]
    }
   ],
   "source": [
    "# Найкраща модель, найкращі значення параметрів\n",
    "\n",
    "dt_best = dt_gs.best_estimator_\n",
    "\n",
    "print(dt_gs.best_params_)"
   ]
  },
  {
   "cell_type": "code",
   "execution_count": 14,
   "metadata": {
    "ExecuteTime": {
     "end_time": "2025-02-20T19:03:57.832471Z",
     "start_time": "2025-02-20T19:03:57.764320Z"
    }
   },
   "outputs": [
    {
     "name": "stdout",
     "output_type": "stream",
     "text": [
      "Area under ROC score on Training dataset: 89.97%\n",
      "Area under ROC score on Validation dataset: 90.01%\n"
     ]
    }
   ],
   "source": [
    "# Оцінка якості передбачень dt_best на тренувальній і валідаційній вибірці з допомогою AUROC\n",
    "\n",
    "roc_auc_train = pred_auroc(dt_best, X_train, train_targets, 'Training')\n",
    "roc_auc_val = pred_auroc(dt_best, X_val, val_targets, 'Validation')"
   ]
  },
  {
   "cell_type": "markdown",
   "metadata": {},
   "source": [
    "**Висновок**:\\\n",
    "В моделі, де параметри підбирались вручну (попереднє ДЗ), `AUROC` на тренувальних даних становив 92,89%, на валідаційних – 92,34%. Виходячи з цього, остання модель (`AUROC` на тренувальних даних 89,97% і на валідаційних 90,01%) не є кращою за ту, що була знайдена вручну."
   ]
  },
  {
   "cell_type": "markdown",
   "metadata": {
    "id": "nCnkGD_sEW1i"
   },
   "source": [
    "4. Виконайте пошук оптимальних гіперпараметрів для `DecisionTreeClassifier` з `RandomizedSearchCV` за заданою сіткою параметрів і кількість ітерацій 40.\n",
    "\n",
    "  Поставте кросвалідацію на 3 фолди, `scoring='roc_auc'`, зафіксуйте `random_seed` процедури крос валідації та виміряйте, скільки часу потребує пошук оптимальних гіперпараметрів.\n",
    "\n",
    "  Після успішного завершення пошуку оптимальних гіперпараметрів\n",
    "    - виведіть найкращі значення параметра\n",
    "    - збережіть в окрему змінну `dt_random_search_best` найкращу модель, знайдену з `RandomizedSearchCV`\n",
    "    - оцініть якість передбачень  `dt_random_search_best` на тренувальній і валідаційній вибірці з допомогою AUROC.\n",
    "    - зробіть висновок про якість моделі. Чи ця модель краща за ту, що ви знайшли з `GridSearch`?\n",
    "    - проаналізуйте параметри `dt_random_search_best` і порівняйте з параметрами `dt_best` - яку бачите відмінність? Ця вправа потрібна аби зрозуміти, як різні налаштування `DecisionTreeClassifier` впливають на якість моделі."
   ]
  },
  {
   "cell_type": "code",
   "execution_count": 15,
   "metadata": {
    "ExecuteTime": {
     "end_time": "2025-02-20T19:04:16.448921Z",
     "start_time": "2025-02-20T19:04:15.300987Z"
    },
    "id": "665uQ3NdIG0s",
    "scrolled": true
   },
   "outputs": [
    {
     "name": "stdout",
     "output_type": "stream",
     "text": [
      "Wall time: 1.08 s\n"
     ]
    },
    {
     "data": {
      "text/plain": [
       "RandomizedSearchCV(cv=3, estimator=DecisionTreeClassifier(random_state=42),\n",
       "                   n_iter=40,\n",
       "                   param_distributions={'criterion': ['gini', 'entropy'],\n",
       "                                        'max_depth': array([ 1,  2,  3,  4,  5,  6,  7,  8,  9, 10, 11, 12, 13, 14, 15, 16, 17,\n",
       "       18, 19]),\n",
       "                                        'max_features': [None, 'sqrt', 'log2'],\n",
       "                                        'max_leaf_nodes': array([ 2,  3,  4,  5,  6,  7,  8,  9, 10, 11, 12, 13, 14, 15, 16, 17, 18,\n",
       "       19]),\n",
       "                                        'min_samples_leaf': [1, 2, 4, 8],\n",
       "                                        'min_samples_split': [2, 5, 10, 20],\n",
       "                                        'splitter': ['best', 'random']},\n",
       "                   scoring='roc_auc')"
      ]
     },
     "execution_count": 15,
     "metadata": {},
     "output_type": "execute_result"
    }
   ],
   "source": [
    "%%time\n",
    "params_dt = {\n",
    "    'criterion': ['gini', 'entropy'],\n",
    "    'splitter': ['best', 'random'],\n",
    "    'max_depth': np.arange(1, 20),\n",
    "    'max_leaf_nodes': np.arange(2, 20),\n",
    "    'min_samples_split': [2, 5, 10, 20],\n",
    "    'min_samples_leaf': [1, 2, 4, 8],\n",
    "    'max_features': [None, 'sqrt', 'log2']\n",
    "}\n",
    "search = RandomizedSearchCV(dt, params_dt, n_iter = 40, cv = 3, scoring = 'roc_auc', verbose = 0, refit = True)\n",
    "search.fit(X_train, train_targets)"
   ]
  },
  {
   "cell_type": "code",
   "execution_count": 16,
   "metadata": {
    "ExecuteTime": {
     "end_time": "2025-02-20T19:04:20.603821Z",
     "start_time": "2025-02-20T19:04:20.527746Z"
    },
    "id": "MyHVD-R0IXqv"
   },
   "outputs": [
    {
     "name": "stdout",
     "output_type": "stream",
     "text": [
      "{'splitter': 'random', 'min_samples_split': 5, 'min_samples_leaf': 8, 'max_leaf_nodes': 16, 'max_features': None, 'max_depth': 11, 'criterion': 'entropy'}\n"
     ]
    }
   ],
   "source": [
    "# Найкраща модель, найкращі значення параметрів\n",
    "\n",
    "dt_random_search_best = search.best_estimator_\n",
    "\n",
    "print(search.best_params_)"
   ]
  },
  {
   "cell_type": "code",
   "execution_count": 17,
   "metadata": {
    "ExecuteTime": {
     "end_time": "2025-02-20T19:04:25.711517Z",
     "start_time": "2025-02-20T19:04:25.633700Z"
    }
   },
   "outputs": [
    {
     "name": "stdout",
     "output_type": "stream",
     "text": [
      "Area under ROC score on Training dataset: 90.74%\n",
      "Area under ROC score on Validation dataset: 90.83%\n"
     ]
    }
   ],
   "source": [
    "# Оцінка якості передбачень dt_random_search_best на тренувальній і валідаційній вибірці з допомогою AUROC\n",
    "\n",
    "roc_auc_train = pred_auroc(dt_random_search_best, X_train, train_targets, 'Training')\n",
    "roc_auc_val = pred_auroc(dt_random_search_best, X_val, val_targets, 'Validation')"
   ]
  },
  {
   "cell_type": "markdown",
   "metadata": {},
   "source": [
    "**Висновок**:\n",
    "1) Модель якісна, добре генералізує. Порівнюючи метрику `AUROC` на тренувальних і валідаційних даних з відповідними значеннями, які були знайдені з GridSearch вище, можна стверджувати що остання модель трохи краща. Проте вона все ще програє моделі з попереднього ДЗ, де параметри дерева рішень підбирались вручну (там AUROC на тренувальних даних становив 92,89%, на валідаційних – 92,34%).\n",
    "2) Порівнюючи параметри `dt_best` і `dt_random_search_best`, бачимо відмінність у `max_depth` (5 у першому випадку, 11 – у другому) і `max_leaf_nodes` (9 у першому випадку, 16 – у другому)."
   ]
  },
  {
   "cell_type": "markdown",
   "metadata": {
    "id": "XArADR2CG8VK"
   },
   "source": [
    "5. Якщо у Вас вийшла метрика `AUROC` в цій серії експериментів - зробіть ще один `submission` на Kaggle і додайте код для цього і скріншот скора на публічному лідерборді нижче.\n",
    "\n",
    "  Сподіваюсь на цьому етапі ви вже відчули себе справжнім дослідником 😉"
   ]
  },
  {
   "cell_type": "code",
   "execution_count": 18,
   "metadata": {
    "ExecuteTime": {
     "end_time": "2025-02-20T19:07:20.622394Z",
     "start_time": "2025-02-20T19:07:20.555301Z"
    },
    "id": "vadJfLlMF_V3"
   },
   "outputs": [],
   "source": [
    "# Зчитування тестових даних\n",
    "\n",
    "new_raw_df = pd.read_csv('./bank-customer-churn-prediction-dlu-course-c-2/test.csv')"
   ]
  },
  {
   "cell_type": "code",
   "execution_count": 19,
   "metadata": {
    "ExecuteTime": {
     "end_time": "2025-02-20T19:07:23.482817Z",
     "start_time": "2025-02-20T19:07:23.395290Z"
    }
   },
   "outputs": [],
   "source": [
    "# Імпорт функції preprocess_new_data з process_bank_churn.py для обробки тестового набору\n",
    "\n",
    "from process_bank_churn import preprocess_new_data"
   ]
  },
  {
   "cell_type": "code",
   "execution_count": 20,
   "metadata": {
    "ExecuteTime": {
     "end_time": "2025-02-20T19:07:27.097219Z",
     "start_time": "2025-02-20T19:07:27.015002Z"
    }
   },
   "outputs": [],
   "source": [
    "# Обробка тестового набору\n",
    "\n",
    "new_data  = preprocess_new_data(new_raw_df, drop_cols, scaler_numeric, scaler, encoder)"
   ]
  },
  {
   "cell_type": "code",
   "execution_count": 21,
   "metadata": {
    "ExecuteTime": {
     "end_time": "2025-02-20T19:07:28.030053Z",
     "start_time": "2025-02-20T19:07:27.943720Z"
    }
   },
   "outputs": [],
   "source": [
    "X_test = new_data['test_X']"
   ]
  },
  {
   "cell_type": "code",
   "execution_count": 22,
   "metadata": {
    "ExecuteTime": {
     "end_time": "2025-02-20T19:07:30.118945Z",
     "start_time": "2025-02-20T19:07:30.032394Z"
    }
   },
   "outputs": [],
   "source": [
    "# Знаходження передбачень на тестових даних, формування файлу submission\n",
    "\n",
    "new_raw_df['Exited'] = dt_random_search_best.predict_proba(X_test)[:, 1]\n",
    "\n",
    "submission_df = pd.read_csv('./bank-customer-churn-prediction-dlu-course-c-2/sample_submission.csv')\n",
    "submission_df.Exited = new_raw_df.Exited\n",
    "submission_df.to_csv('submission.csv', index = False)"
   ]
  },
  {
   "cell_type": "markdown",
   "metadata": {},
   "source": [
    "Оскільки в останній серії експериментів метрика`AUROC` програє тій, що була знайдена в попередніх ДЗ, `submission` на Kaggle зараз не робила. "
   ]
  }
 ],
 "metadata": {
  "colab": {
   "provenance": []
  },
  "kernelspec": {
   "display_name": "Python 3 (ipykernel)",
   "language": "python",
   "name": "python3"
  },
  "language_info": {
   "codemirror_mode": {
    "name": "ipython",
    "version": 3
   },
   "file_extension": ".py",
   "mimetype": "text/x-python",
   "name": "python",
   "nbconvert_exporter": "python",
   "pygments_lexer": "ipython3",
   "version": "3.7.5"
  },
  "toc": {
   "base_numbering": 1,
   "nav_menu": {},
   "number_sections": true,
   "sideBar": true,
   "skip_h1_title": false,
   "title_cell": "Table of Contents",
   "title_sidebar": "Contents",
   "toc_cell": false,
   "toc_position": {},
   "toc_section_display": true,
   "toc_window_display": false
  }
 },
 "nbformat": 4,
 "nbformat_minor": 1
}
