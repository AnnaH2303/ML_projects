{
 "cells": [
  {
   "cell_type": "markdown",
   "metadata": {
    "id": "Zl1UHn4aRLMg"
   },
   "source": [
    "# Домашнє завдання: Побудова класифікатора сентименту на основі набору даних Tweet Sentiment Extraction\n",
    "\n",
    "**Мета:** Провести аналіз набору даних, виконати векторизацію текстових даних за допомогою методів bag-of-words та TF-IDF, порівняти їх, побудувати класифікатор та провести аналіз помилок.\n",
    "\n",
    "**Набір даних:**\n",
    "Дані беремо з цього змагання на Kaggle: https://www.kaggle.com/competitions/tweet-sentiment-extraction/data?select=train.csv\n",
    "\n",
    "Оригінальне змагання має дещо іншу задачу, але ми будемо поки будувати саме класифікатор.\n",
    "\n",
    "Увага! В цьому наборі завдань для простоти експериментів ми будемо спочатку робити векторизацію на всьому наборі даних, а потім розбивку на train i test. В робочих проєктах ми теж можемо використати цей підхід для швидшої побудови PoC (proof of concept). Але фінальне рішення, яке ми будемо деплоїти - треба проводити за правилом - спочатку розбивка на трейн і тест, потім пишемо обробку для трейну, навчаємо векторизатори. І потім використовуємо готові векторизатори для тесту і всіх даних на етапі передбачення (інференсу).\n",
    "\n",
    "### Завдання 1. Завантаження та ознайомлення з набором даних\n",
    "\n",
    "- Завантажте набір даних `train.csv` з посилання та ознайомтеся з його структурою.\n",
    "- Виведіть перші 5 рядків та основну статистику: кількість записів, типи колонок, кількість пропущених значень.\n",
    "- Видаліть записи, в яких є пропущені значення.\n",
    "\n"
   ]
  },
  {
   "cell_type": "code",
   "execution_count": 1,
   "metadata": {},
   "outputs": [],
   "source": [
    "import numpy as np\n",
    "import pandas as pd\n",
    "import matplotlib.pyplot as plt\n",
    "import seaborn as sns\n",
    "\n",
    "import nltk\n",
    "from nltk.tokenize import word_tokenize\n",
    "from nltk.corpus import stopwords\n",
    "from nltk.stem.snowball import SnowballStemmer\n",
    "from sklearn.feature_extraction.text import CountVectorizer\n",
    "from sklearn.model_selection import train_test_split\n",
    "from sklearn.preprocessing import LabelEncoder\n",
    "from sklearn.linear_model import LogisticRegression\n",
    "from sklearn.metrics import classification_report, precision_score, recall_score\n",
    "from sklearn.multiclass import OneVsRestClassifier\n",
    "from sklearn.ensemble import RandomForestClassifier\n",
    "from xgboost import XGBClassifier\n",
    "from sklearn.feature_extraction.text import TfidfVectorizer"
   ]
  },
  {
   "cell_type": "code",
   "execution_count": 2,
   "metadata": {
    "id": "z9PAZcZgddHT"
   },
   "outputs": [],
   "source": [
    "# Завантаження набору даних\n",
    "raw_df = pd.read_csv('data/tweet_sentiment_train.csv.zip')"
   ]
  },
  {
   "cell_type": "code",
   "execution_count": 3,
   "metadata": {},
   "outputs": [
    {
     "data": {
      "text/plain": [
       "(27481, 4)"
      ]
     },
     "execution_count": 3,
     "metadata": {},
     "output_type": "execute_result"
    }
   ],
   "source": [
    "# Перевівка структури набору\n",
    "raw_df.shape"
   ]
  },
  {
   "cell_type": "code",
   "execution_count": 4,
   "metadata": {},
   "outputs": [
    {
     "data": {
      "text/html": [
       "<div>\n",
       "<style scoped>\n",
       "    .dataframe tbody tr th:only-of-type {\n",
       "        vertical-align: middle;\n",
       "    }\n",
       "\n",
       "    .dataframe tbody tr th {\n",
       "        vertical-align: top;\n",
       "    }\n",
       "\n",
       "    .dataframe thead th {\n",
       "        text-align: right;\n",
       "    }\n",
       "</style>\n",
       "<table border=\"1\" class=\"dataframe\">\n",
       "  <thead>\n",
       "    <tr style=\"text-align: right;\">\n",
       "      <th></th>\n",
       "      <th>textID</th>\n",
       "      <th>text</th>\n",
       "      <th>selected_text</th>\n",
       "      <th>sentiment</th>\n",
       "    </tr>\n",
       "  </thead>\n",
       "  <tbody>\n",
       "    <tr>\n",
       "      <th>0</th>\n",
       "      <td>cb774db0d1</td>\n",
       "      <td>I`d have responded, if I were going</td>\n",
       "      <td>I`d have responded, if I were going</td>\n",
       "      <td>neutral</td>\n",
       "    </tr>\n",
       "    <tr>\n",
       "      <th>1</th>\n",
       "      <td>549e992a42</td>\n",
       "      <td>Sooo SAD I will miss you here in San Diego!!!</td>\n",
       "      <td>Sooo SAD</td>\n",
       "      <td>negative</td>\n",
       "    </tr>\n",
       "    <tr>\n",
       "      <th>2</th>\n",
       "      <td>088c60f138</td>\n",
       "      <td>my boss is bullying me...</td>\n",
       "      <td>bullying me</td>\n",
       "      <td>negative</td>\n",
       "    </tr>\n",
       "    <tr>\n",
       "      <th>3</th>\n",
       "      <td>9642c003ef</td>\n",
       "      <td>what interview! leave me alone</td>\n",
       "      <td>leave me alone</td>\n",
       "      <td>negative</td>\n",
       "    </tr>\n",
       "    <tr>\n",
       "      <th>4</th>\n",
       "      <td>358bd9e861</td>\n",
       "      <td>Sons of ****, why couldn`t they put them on t...</td>\n",
       "      <td>Sons of ****,</td>\n",
       "      <td>negative</td>\n",
       "    </tr>\n",
       "  </tbody>\n",
       "</table>\n",
       "</div>"
      ],
      "text/plain": [
       "       textID                                               text  \\\n",
       "0  cb774db0d1                I`d have responded, if I were going   \n",
       "1  549e992a42      Sooo SAD I will miss you here in San Diego!!!   \n",
       "2  088c60f138                          my boss is bullying me...   \n",
       "3  9642c003ef                     what interview! leave me alone   \n",
       "4  358bd9e861   Sons of ****, why couldn`t they put them on t...   \n",
       "\n",
       "                         selected_text sentiment  \n",
       "0  I`d have responded, if I were going   neutral  \n",
       "1                             Sooo SAD  negative  \n",
       "2                          bullying me  negative  \n",
       "3                       leave me alone  negative  \n",
       "4                        Sons of ****,  negative  "
      ]
     },
     "execution_count": 4,
     "metadata": {},
     "output_type": "execute_result"
    }
   ],
   "source": [
    "# Виведення 5-ти перших рядків\n",
    "raw_df.head()"
   ]
  },
  {
   "cell_type": "code",
   "execution_count": 5,
   "metadata": {},
   "outputs": [
    {
     "name": "stdout",
     "output_type": "stream",
     "text": [
      "<class 'pandas.core.frame.DataFrame'>\n",
      "RangeIndex: 27481 entries, 0 to 27480\n",
      "Data columns (total 4 columns):\n",
      " #   Column         Non-Null Count  Dtype \n",
      "---  ------         --------------  ----- \n",
      " 0   textID         27481 non-null  object\n",
      " 1   text           27480 non-null  object\n",
      " 2   selected_text  27480 non-null  object\n",
      " 3   sentiment      27481 non-null  object\n",
      "dtypes: object(4)\n",
      "memory usage: 858.9+ KB\n"
     ]
    }
   ],
   "source": [
    "# Виведення основної статистики (типи полів, кількість пропущених значень)\n",
    "raw_df.info()"
   ]
  },
  {
   "cell_type": "markdown",
   "metadata": {},
   "source": [
    "- Маємо набір у 27481 рядків і 4 стовпці.\n",
    "- Усі совпці типу `object`.\n",
    "- Стовпці `text` і `selected_text` мають по одному порожньому запису."
   ]
  },
  {
   "cell_type": "code",
   "execution_count": 6,
   "metadata": {},
   "outputs": [],
   "source": [
    "# Видалення записів, в яких є пропущені значення\n",
    "raw_df.dropna(inplace = True, ignore_index = True)"
   ]
  },
  {
   "cell_type": "code",
   "execution_count": 7,
   "metadata": {},
   "outputs": [
    {
     "name": "stdout",
     "output_type": "stream",
     "text": [
      "<class 'pandas.core.frame.DataFrame'>\n",
      "RangeIndex: 27480 entries, 0 to 27479\n",
      "Data columns (total 4 columns):\n",
      " #   Column         Non-Null Count  Dtype \n",
      "---  ------         --------------  ----- \n",
      " 0   textID         27480 non-null  object\n",
      " 1   text           27480 non-null  object\n",
      " 2   selected_text  27480 non-null  object\n",
      " 3   sentiment      27480 non-null  object\n",
      "dtypes: object(4)\n",
      "memory usage: 858.9+ KB\n"
     ]
    }
   ],
   "source": [
    "# Перевірка кількості пропущених значень у полях після операції видалення таких записів\n",
    "raw_df.info()"
   ]
  },
  {
   "cell_type": "markdown",
   "metadata": {},
   "source": [
    "- Пропущених значень більше немає."
   ]
  },
  {
   "cell_type": "markdown",
   "metadata": {
    "id": "BXox7UCZUU5J"
   },
   "source": [
    "### Завдання 2. Exploratory Data Analysis\n",
    "\n",
    "- Проведіть аналіз кількості класів та розподілу міток. Класи знаходяться в колонці `sentiment`.\n",
    "- Візуалізуйте розподіл довжин текстів в символах та зробіть висновок про довжини постів: якої довжини постів найбільше, що бачите з розподілу?\n",
    "\n"
   ]
  },
  {
   "cell_type": "code",
   "execution_count": 8,
   "metadata": {
    "id": "aPm_wCjpde0s"
   },
   "outputs": [
    {
     "data": {
      "text/plain": [
       "sentiment\n",
       "neutral     11117\n",
       "positive     8582\n",
       "negative     7781\n",
       "Name: count, dtype: int64"
      ]
     },
     "execution_count": 8,
     "metadata": {},
     "output_type": "execute_result"
    }
   ],
   "source": [
    "raw_df['sentiment'].value_counts().sort_values(ascending = False)"
   ]
  },
  {
   "cell_type": "code",
   "execution_count": 9,
   "metadata": {},
   "outputs": [
    {
     "data": {
      "text/plain": [
       "sentiment\n",
       "neutral     40.454876\n",
       "positive    31.229985\n",
       "negative    28.315138\n",
       "Name: proportion, dtype: float64"
      ]
     },
     "execution_count": 9,
     "metadata": {},
     "output_type": "execute_result"
    }
   ],
   "source": [
    "raw_df['sentiment'].value_counts(normalize = True).sort_values(ascending = False) * 100"
   ]
  },
  {
   "cell_type": "code",
   "execution_count": 10,
   "metadata": {},
   "outputs": [
    {
     "data": {
      "image/png": "[encoded data removed]",
      "text/plain": [
       "<Figure size 1000x500 with 1 Axes>"
      ]
     },
     "metadata": {},
     "output_type": "display_data"
    }
   ],
   "source": [
    "plt.figure(figsize = (10,5))\n",
    "sns.countplot(x = raw_df['sentiment'], data = raw_df)\n",
    "plt.title('Перевірка коефіцієнта дисбалансу змінної sentiment')\n",
    "plt.show()"
   ]
  },
  {
   "cell_type": "code",
   "execution_count": 11,
   "metadata": {},
   "outputs": [
    {
     "data": {
      "text/html": [
       "<div>\n",
       "<style scoped>\n",
       "    .dataframe tbody tr th:only-of-type {\n",
       "        vertical-align: middle;\n",
       "    }\n",
       "\n",
       "    .dataframe tbody tr th {\n",
       "        vertical-align: top;\n",
       "    }\n",
       "\n",
       "    .dataframe thead th {\n",
       "        text-align: right;\n",
       "    }\n",
       "</style>\n",
       "<table border=\"1\" class=\"dataframe\">\n",
       "  <thead>\n",
       "    <tr style=\"text-align: right;\">\n",
       "      <th></th>\n",
       "      <th>textID</th>\n",
       "      <th>text</th>\n",
       "      <th>selected_text</th>\n",
       "      <th>sentiment</th>\n",
       "      <th>text_length</th>\n",
       "    </tr>\n",
       "  </thead>\n",
       "  <tbody>\n",
       "    <tr>\n",
       "      <th>0</th>\n",
       "      <td>cb774db0d1</td>\n",
       "      <td>I`d have responded, if I were going</td>\n",
       "      <td>I`d have responded, if I were going</td>\n",
       "      <td>neutral</td>\n",
       "      <td>36</td>\n",
       "    </tr>\n",
       "    <tr>\n",
       "      <th>1</th>\n",
       "      <td>549e992a42</td>\n",
       "      <td>Sooo SAD I will miss you here in San Diego!!!</td>\n",
       "      <td>Sooo SAD</td>\n",
       "      <td>negative</td>\n",
       "      <td>46</td>\n",
       "    </tr>\n",
       "    <tr>\n",
       "      <th>2</th>\n",
       "      <td>088c60f138</td>\n",
       "      <td>my boss is bullying me...</td>\n",
       "      <td>bullying me</td>\n",
       "      <td>negative</td>\n",
       "      <td>25</td>\n",
       "    </tr>\n",
       "    <tr>\n",
       "      <th>3</th>\n",
       "      <td>9642c003ef</td>\n",
       "      <td>what interview! leave me alone</td>\n",
       "      <td>leave me alone</td>\n",
       "      <td>negative</td>\n",
       "      <td>31</td>\n",
       "    </tr>\n",
       "    <tr>\n",
       "      <th>4</th>\n",
       "      <td>358bd9e861</td>\n",
       "      <td>Sons of ****, why couldn`t they put them on t...</td>\n",
       "      <td>Sons of ****,</td>\n",
       "      <td>negative</td>\n",
       "      <td>75</td>\n",
       "    </tr>\n",
       "  </tbody>\n",
       "</table>\n",
       "</div>"
      ],
      "text/plain": [
       "       textID                                               text  \\\n",
       "0  cb774db0d1                I`d have responded, if I were going   \n",
       "1  549e992a42      Sooo SAD I will miss you here in San Diego!!!   \n",
       "2  088c60f138                          my boss is bullying me...   \n",
       "3  9642c003ef                     what interview! leave me alone   \n",
       "4  358bd9e861   Sons of ****, why couldn`t they put them on t...   \n",
       "\n",
       "                         selected_text sentiment  text_length  \n",
       "0  I`d have responded, if I were going   neutral           36  \n",
       "1                             Sooo SAD  negative           46  \n",
       "2                          bullying me  negative           25  \n",
       "3                       leave me alone  negative           31  \n",
       "4                        Sons of ****,  negative           75  "
      ]
     },
     "execution_count": 11,
     "metadata": {},
     "output_type": "execute_result"
    }
   ],
   "source": [
    "# Додавання стовпця з довжиною тексту в символах\n",
    "raw_df['text_length'] = raw_df.text.apply(lambda x: len(x))\n",
    "raw_df.head()"
   ]
  },
  {
   "cell_type": "code",
   "execution_count": 12,
   "metadata": {},
   "outputs": [
    {
     "data": {
      "text/plain": [
       "139"
      ]
     },
     "execution_count": 12,
     "metadata": {},
     "output_type": "execute_result"
    }
   ],
   "source": [
    "raw_df['text_length'].nunique()"
   ]
  },
  {
   "cell_type": "code",
   "execution_count": 13,
   "metadata": {},
   "outputs": [
    {
     "data": {
      "text/plain": [
       "text_length\n",
       "41     308\n",
       "48     301\n",
       "46     301\n",
       "42     298\n",
       "45     295\n",
       "      ... \n",
       "4        8\n",
       "3        5\n",
       "139      4\n",
       "141      2\n",
       "140      1\n",
       "Name: count, Length: 139, dtype: int64"
      ]
     },
     "execution_count": 13,
     "metadata": {},
     "output_type": "execute_result"
    }
   ],
   "source": [
    "raw_df['text_length'].value_counts()"
   ]
  },
  {
   "cell_type": "code",
   "execution_count": 14,
   "metadata": {},
   "outputs": [
    {
     "data": {
      "image/png": "[encoded data removed]",
      "text/plain": [
       "<Figure size 1500x500 with 1 Axes>"
      ]
     },
     "metadata": {},
     "output_type": "display_data"
    }
   ],
   "source": [
    "# Візуалізація розподілу довжин текстів\n",
    "plt.figure(figsize = (15, 5))\n",
    "plt.hist(raw_df['text_length'], bins = 20, rwidth = 0.9)\n",
    "plt.title('Text length distribution')\n",
    "plt.xlabel('Length')\n",
    "plt.ylabel('Frequency')\n",
    "plt.show();"
   ]
  },
  {
   "cell_type": "markdown",
   "metadata": {},
   "source": [
    "- Маємо 3 класи: `neutral`, `negative`, `positive`.\n",
    "- Спостерігається незначний дисбаланс класів з переважанням класу `neutral`.\n",
    "- Зустрічаються тексти 139-ти різних довжин.\n",
    "- Найбільше текстів довжиною у 41 символ. Таких є 308 штук.\n",
    "- Розподіл довжин текстів скошений вправо. Зі збільшенням довжини тексту кількість таких, довгих, твітів зменшується. "
   ]
  },
  {
   "cell_type": "markdown",
   "metadata": {
    "id": "KfiU4hNDWncB"
   },
   "source": [
    "### Завдання 3. Попередня обробка текстових даних та векторизація з bag of words\n",
    "\n",
    "\n",
    "Наша задача тут отримати вектори методом bag of words колонки `text`, виконавши попередню обробку тексту.\n",
    "Попередня обробка має включати\n",
    "- видалення stopwords необхідної мови\n",
    "- токенізація (розбиття текстів на фрагменти по 1 слову)\n",
    "- стеммінг слів зі `SnowballStemmer`.\n",
    "- самостійно задайте кількість слів в словнику для `sklearn.feature_extraction.text.CountVectorizer`. Можливо для цього доведеться виконати додатковий аналіз.\n",
    "\n",
    "Ви також можете додати сюди додаткові методи очистки текстів, наприклад, видалення деяких символів чи груп символів, якщо в процесі роботи побачите, що хочете щось видалити.\n",
    "\n",
    "Напишіть код аби виконати це завдання. Перед цим рекомендую детально ознайомитись з тим, що робить обʼєкт `sklearn.feature_extraction.text.CountVectorizer` за замовченням.\n",
    "\n",
    "Це завдання можна виконати двома способами - один - максимально подібно до того, як ми це робили в лекції, другий - дещо інакше перегрупувавши етапи обробки тексту.\n",
    "\n",
    "\n"
   ]
  },
  {
   "cell_type": "code",
   "execution_count": 15,
   "metadata": {
    "id": "BRUG111tdhB0"
   },
   "outputs": [
    {
     "name": "stderr",
     "output_type": "stream",
     "text": [
      "[nltk_data] Downloading package punkt_tab to\n",
      "[nltk_data]     C:\\Users\\Admin\\AppData\\Roaming\\nltk_data...\n",
      "[nltk_data]   Package punkt_tab is already up-to-date!\n",
      "[nltk_data] Downloading package stopwords to\n",
      "[nltk_data]     C:\\Users\\Admin\\AppData\\Roaming\\nltk_data...\n",
      "[nltk_data]   Package stopwords is already up-to-date!\n",
      "C:\\Users\\Admin\\anaconda3\\envs\\py3921\\lib\\site-packages\\sklearn\\feature_extraction\\text.py:521: UserWarning: The parameter 'token_pattern' will not be used since 'tokenizer' is not None'\n",
      "  warnings.warn(\n"
     ]
    },
    {
     "name": "stdout",
     "output_type": "stream",
     "text": [
      "Vocabulary length is 1000 words.\n"
     ]
    }
   ],
   "source": [
    "nltk.download('punkt_tab')\n",
    "nltk.download('stopwords')\n",
    "english_stopwords = stopwords.words('english')\n",
    "stemmer = SnowballStemmer(language='english')\n",
    "\n",
    "# Функція токенізації, видалення стоп-слів і стеммінгу\n",
    "def tokenize_stopwords_stem(text):\n",
    "    tokens = word_tokenize(text)\n",
    "    tokens = [word for word in tokens if word.lower() not in english_stopwords]\n",
    "    tokens = [stemmer.stem(word) for word in tokens]\n",
    "    return tokens\n",
    "\n",
    "vectorizer = CountVectorizer(lowercase = True,\n",
    "                             tokenizer = tokenize_stopwords_stem,\n",
    "                             max_features = 1000)\n",
    "\n",
    "vectorizer.fit(raw_df.text)\n",
    "print(f\"Vocabulary length is {len(vectorizer.vocabulary_)} words.\")"
   ]
  },
  {
   "cell_type": "code",
   "execution_count": 16,
   "metadata": {},
   "outputs": [
    {
     "data": {
      "text/plain": [
       "array(['!', '#', '$', '%', '&', \"'\", '(', ')', '*', '+', ',', '-', '--',\n",
       "       '.', '..', '...', '....', '.....', '......', '.......', '/', '1',\n",
       "       '10', '100', '11', '12', '15', '1st', '2', '20', '2day', '2nd',\n",
       "       '3', '30', '4', '4th', '5', '6', '7', '8', ':', ';', '<', '=', '>',\n",
       "       '?', '@', '[', ']', '_', '`', 'abl', 'absolut', 'account', 'ach',\n",
       "       'actual', 'ad', 'add', 'addict', 'afternoon', 'age', 'ago', 'agre',\n",
       "       'ah', 'ahh', 'ahhh', 'aint', 'air', 'airport', 'album', 'almost',\n",
       "       'alon', 'along', 'alot', 'alreadi', 'alright', 'also', 'although',\n",
       "       'alway', 'amaz', 'american', 'anim', 'annoy', 'anoth', 'answer',\n",
       "       'anymor', 'anyon', 'anyth', 'anytim', 'anyway', 'apart', 'app',\n",
       "       'appar', 'appl', 'appreci', 'arm', 'around', 'arriv', 'art', 'ask'],\n",
       "      dtype=object)"
      ]
     },
     "execution_count": 16,
     "metadata": {},
     "output_type": "execute_result"
    }
   ],
   "source": [
    "vectorizer.get_feature_names_out()[:100]"
   ]
  },
  {
   "cell_type": "code",
   "execution_count": 17,
   "metadata": {},
   "outputs": [
    {
     "data": {
      "text/plain": [
       "array(['tv', 'tweet', 'twilight', 'twit', 'twitter', 'two', 'type', 'u',\n",
       "       'ugh', 'uk', 'understand', 'unfortun', 'updat', 'upload', 'upset',\n",
       "       'ur', 'us', 'use', 'usual', 'vacat', 'vega', 'version', 'via',\n",
       "       'vid', 'video', 'visit', 'voic', 'vote', 'w/', 'wait', 'wake',\n",
       "       'walk', 'wan', 'want', 'war', 'warm', 'wash', 'wast', 'wat',\n",
       "       'watch', 'water', 'way', 'wear', 'weather', 'web', 'websit', 'wed',\n",
       "       'week', 'weekend', 'weird', 'welcom', 'well', 'went', 'what',\n",
       "       'whatev', 'white', 'whole', 'wife', 'win', 'window', 'wine',\n",
       "       'wish', 'wit', 'without', 'woke', 'wolverin', 'wonder', 'wont',\n",
       "       'woo', 'word', 'work', 'world', 'worri', 'wors', 'worst', 'worth',\n",
       "       'would', 'wow', 'write', 'wrong', 'wtf', 'x', 'xd', 'xoxo', 'ya',\n",
       "       'yay', 'yea', 'yeah', 'year', 'yep', 'yes', 'yesterday', 'yet',\n",
       "       'yo', 'young', 'youtub', 'yr', 'yum', 'yummi', 'yup'], dtype=object)"
      ]
     },
     "execution_count": 17,
     "metadata": {},
     "output_type": "execute_result"
    }
   ],
   "source": [
    "vectorizer.get_feature_names_out()[900:]"
   ]
  },
  {
   "cell_type": "code",
   "execution_count": 18,
   "metadata": {},
   "outputs": [
    {
     "data": {
      "text/plain": [
       "(27480, 1000)"
      ]
     },
     "execution_count": 18,
     "metadata": {},
     "output_type": "execute_result"
    }
   ],
   "source": [
    "inputs = vectorizer.transform(raw_df.text)\n",
    "inputs.shape"
   ]
  },
  {
   "cell_type": "markdown",
   "metadata": {
    "id": "v0RHDwO7OBIJ"
   },
   "source": [
    "### Завдання 4. Побудова класифікатора\n",
    "\n",
    "- Розділіть індекси даних на навчальний та тестовий набори в обраному співвівдношенні. Використовуючи отримані індекси сфомуйте набори для тренування класифікатора `X_train_bow, X_test_bow, y_train, y_test`.\n",
    "- Навчіть класифікатор (наприклад, Logistic Regression, Decision Tree або один з алгоритмів бустингу) на даних, векторизованих методом bag-of-words. Спробуйте кілька моделей і оберіть найбільш точну :)\n",
    "- Виведіть інформацію, яка дає можливість оцінити якість класифікації.\n",
    "- Оцініть якість фінальної класифікації: вона хороша чи не дуже?\n",
    "\n"
   ]
  },
  {
   "cell_type": "code",
   "execution_count": 19,
   "metadata": {},
   "outputs": [],
   "source": [
    "train_index, test_index = train_test_split(raw_df.index, test_size = 0.3, random_state = 42)"
   ]
  },
  {
   "cell_type": "code",
   "execution_count": 20,
   "metadata": {},
   "outputs": [],
   "source": [
    "X_train_bow = inputs[train_index]\n",
    "X_test_bow = inputs[test_index]\n",
    "y_train = raw_df.loc[train_index, 'sentiment']\n",
    "y_test = raw_df.loc[test_index, 'sentiment']"
   ]
  },
  {
   "cell_type": "code",
   "execution_count": 21,
   "metadata": {},
   "outputs": [
    {
     "data": {
      "text/plain": [
       "(19236, 1000)"
      ]
     },
     "execution_count": 21,
     "metadata": {},
     "output_type": "execute_result"
    }
   ],
   "source": [
    "X_train_bow.shape"
   ]
  },
  {
   "cell_type": "code",
   "execution_count": 22,
   "metadata": {},
   "outputs": [
    {
     "data": {
      "text/plain": [
       "(8244, 1000)"
      ]
     },
     "execution_count": 22,
     "metadata": {},
     "output_type": "execute_result"
    }
   ],
   "source": [
    "X_test_bow.shape"
   ]
  },
  {
   "cell_type": "code",
   "execution_count": 23,
   "metadata": {},
   "outputs": [],
   "source": [
    "# Кодування текстових міток класів\n",
    "\n",
    "le = LabelEncoder()\n",
    "le.fit(y_train)\n",
    "y_train = le.transform(y_train)\n",
    "y_test = le.transform(y_test)"
   ]
  },
  {
   "cell_type": "code",
   "execution_count": 24,
   "metadata": {},
   "outputs": [],
   "source": [
    "MAX_ITER = 2000"
   ]
  },
  {
   "cell_type": "markdown",
   "metadata": {},
   "source": [
    "**LogisticRegression**"
   ]
  },
  {
   "cell_type": "code",
   "execution_count": 25,
   "metadata": {},
   "outputs": [
    {
     "name": "stdout",
     "output_type": "stream",
     "text": [
      "              precision    recall  f1-score   support\n",
      "\n",
      "           0       0.72      0.58      0.64      2356\n",
      "           1       0.63      0.75      0.68      3343\n",
      "           2       0.76      0.72      0.74      2545\n",
      "\n",
      "    accuracy                           0.69      8244\n",
      "   macro avg       0.70      0.68      0.69      8244\n",
      "weighted avg       0.70      0.69      0.69      8244\n",
      "\n"
     ]
    }
   ],
   "source": [
    "log_reg = LogisticRegression(max_iter = MAX_ITER, solver = 'sag', random_state = 42)\n",
    "log_reg.fit(X_train_bow, y_train)\n",
    "\n",
    "log_reg_predictions = log_reg.predict(X_test_bow)\n",
    "print(classification_report(y_test, log_reg_predictions))"
   ]
  },
  {
   "cell_type": "markdown",
   "metadata": {},
   "source": [
    "**OneVsRestClassifier**"
   ]
  },
  {
   "cell_type": "code",
   "execution_count": 26,
   "metadata": {},
   "outputs": [
    {
     "name": "stdout",
     "output_type": "stream",
     "text": [
      "              precision    recall  f1-score   support\n",
      "\n",
      "           0       0.72      0.58      0.64      2356\n",
      "           1       0.64      0.74      0.69      3343\n",
      "           2       0.75      0.73      0.74      2545\n",
      "\n",
      "    accuracy                           0.69      8244\n",
      "   macro avg       0.70      0.68      0.69      8244\n",
      "weighted avg       0.70      0.69      0.69      8244\n",
      "\n"
     ]
    }
   ],
   "source": [
    "log_reg_ovr = OneVsRestClassifier(LogisticRegression(max_iter = MAX_ITER, solver = 'sag', random_state = 42))\n",
    "log_reg_ovr.fit(X_train_bow, y_train)\n",
    "\n",
    "log_reg_ovr_predictions = log_reg_ovr.predict(X_test_bow)\n",
    "print(classification_report(y_test, log_reg_ovr_predictions))"
   ]
  },
  {
   "cell_type": "markdown",
   "metadata": {},
   "source": [
    "**RandomForestClassifier**"
   ]
  },
  {
   "cell_type": "code",
   "execution_count": 27,
   "metadata": {},
   "outputs": [
    {
     "name": "stdout",
     "output_type": "stream",
     "text": [
      "              precision    recall  f1-score   support\n",
      "\n",
      "           0       0.75      0.53      0.62      2356\n",
      "           1       0.64      0.76      0.69      3343\n",
      "           2       0.74      0.75      0.75      2545\n",
      "\n",
      "    accuracy                           0.69      8244\n",
      "   macro avg       0.71      0.68      0.69      8244\n",
      "weighted avg       0.70      0.69      0.69      8244\n",
      "\n"
     ]
    }
   ],
   "source": [
    "rf = OneVsRestClassifier(RandomForestClassifier(max_leaf_nodes = 200, random_state = 42))\n",
    "rf.fit(X_train_bow, y_train)\n",
    "\n",
    "rf_predictions = rf.predict(X_test_bow)\n",
    "print(classification_report(y_test, rf_predictions))"
   ]
  },
  {
   "cell_type": "markdown",
   "metadata": {},
   "source": [
    "**XGBClassifier**"
   ]
  },
  {
   "cell_type": "code",
   "execution_count": 28,
   "metadata": {},
   "outputs": [
    {
     "name": "stdout",
     "output_type": "stream",
     "text": [
      "              precision    recall  f1-score   support\n",
      "\n",
      "           0       0.74      0.57      0.64      2356\n",
      "           1       0.65      0.77      0.70      3343\n",
      "           2       0.76      0.74      0.75      2545\n",
      "\n",
      "    accuracy                           0.70      8244\n",
      "   macro avg       0.72      0.69      0.70      8244\n",
      "weighted avg       0.71      0.70      0.70      8244\n",
      "\n"
     ]
    }
   ],
   "source": [
    "xgb = XGBClassifier(max_depth = 10, random_state = 42, n_jobs=-1)\n",
    "xgb.fit(X_train_bow, y_train)\n",
    "\n",
    "xgb_predictions = xgb.predict(X_test_bow)\n",
    "print(classification_report(y_test, xgb_predictions))"
   ]
  },
  {
   "cell_type": "markdown",
   "metadata": {},
   "source": [
    "- Судячи з метрик f1-score macro avg, найкращу точність на тестовому наборі показує модель XGBClassifier (попередні три моделі демонструють приблизно однакову, гіршу, точність). "
   ]
  },
  {
   "cell_type": "markdown",
   "metadata": {
    "id": "53hZa4bKP5Cx"
   },
   "source": [
    "### Завдання 5. Аналіз впливовості слів в отриманого класифікатора\n",
    "\n",
    "- Для обраної вами моделі проведіть аналіз важливості слів (ознак): які слова (токени) найбільше впливають для визначення сентименту? Чи це логічно на ваш погляд, що саме ці символи впливають найбільше/найменще?\n"
   ]
  },
  {
   "cell_type": "code",
   "execution_count": 29,
   "metadata": {
    "id": "z0YBHvG4dmKb"
   },
   "outputs": [],
   "source": [
    "feature_importance = pd.Series(xgb.feature_importances_, index = vectorizer.get_feature_names_out(), name = 'imp').sort_values(ascending = False)"
   ]
  },
  {
   "cell_type": "code",
   "execution_count": 30,
   "metadata": {},
   "outputs": [
    {
     "data": {
      "text/plain": [
       "Index(['happi', 'thank', 'great', 'nice', 'hurt', 'sad', 'suck', 'hate',\n",
       "       'awesom', 'bore'],\n",
       "      dtype='object')"
      ]
     },
     "execution_count": 30,
     "metadata": {},
     "output_type": "execute_result"
    }
   ],
   "source": [
    "# Найбільш важливі слова-ознаки\n",
    "\n",
    "feature_importance.index[:10]"
   ]
  },
  {
   "cell_type": "code",
   "execution_count": 31,
   "metadata": {},
   "outputs": [
    {
     "data": {
      "text/plain": [
       "Index(['eh', 'em', 'exact', 'email', 'especi', 'etc', 'event', 'soooo',\n",
       "       'everi', 'facebook'],\n",
       "      dtype='object')"
      ]
     },
     "execution_count": 31,
     "metadata": {},
     "output_type": "execute_result"
    }
   ],
   "source": [
    "# Найменш важливі слова-ознаки\n",
    "\n",
    "feature_importance.index[-10:]"
   ]
  },
  {
   "cell_type": "markdown",
   "metadata": {},
   "source": [
    "- Слова, які найбільше впливають на визначення сентименту, дійсно чітко асоціюються з визначенням \"позитивний\" (happi, thank, great, nice, awesom) чи \"негативний\" (hurt, sad, suck, hate, bore). Серед слів, що мають найбільший вплив, відсутні слова нейтрального характеру (тому поки не зовсім зрозуміло як модель ідентифікує нейтральний клас).\n",
    "- Слова, що мають найменший вплив, справді не можна розділити за визначенням \"позитивний\"/\"негативний\"/\"нейтральний\"."
   ]
  },
  {
   "cell_type": "markdown",
   "metadata": {
    "id": "FvJlvr9JRhzq"
   },
   "source": [
    "### Завдання 6. Векторизація текстів з допомогою TF-IDF. Тренування класифікатора, аналіз точності і впливовості слів.\n",
    "\n",
    "- Проведіть векторизацію текстів з векторизатором TfidfVectorizer. Реалізуйте векторизацію так, аби препроцесинг включав всі ті самі кроки, що і в випадку використання векторизації Bag of Words.\n",
    "\n",
    "- Натренуйте той самий класифікатор на TF-IDF векторах, виконавши розбивку набору даних на train, test так, аби в трейні були всі ті самі записи, що і були в попередньому завданні (це важливо для порівняння результатів).\n",
    "\n",
    "- Проаналізуйте якість класифікації вивівши потрібні для цього метрики. Чи стала якість класифікації кращою?\n",
    "\n",
    "- Які токени найбільше впливають на результат при тренуваннні класифікатора з TF-IDF векторами? Порівняйте з найважливішими токенами при Bag of Words векторизації. Яку векторизацію ви б обрали для фінальної імплементації рішення? Обґрунтуйте свій вибір.\n",
    "\n"
   ]
  },
  {
   "cell_type": "code",
   "execution_count": 32,
   "metadata": {},
   "outputs": [
    {
     "name": "stderr",
     "output_type": "stream",
     "text": [
      "C:\\Users\\Admin\\anaconda3\\envs\\py3921\\lib\\site-packages\\sklearn\\feature_extraction\\text.py:521: UserWarning: The parameter 'token_pattern' will not be used since 'tokenizer' is not None'\n",
      "  warnings.warn(\n"
     ]
    },
    {
     "data": {
      "text/plain": [
       "(27480, 1000)"
      ]
     },
     "execution_count": 32,
     "metadata": {},
     "output_type": "execute_result"
    }
   ],
   "source": [
    "tfidf_vectorizer = TfidfVectorizer(lowercase = True,\n",
    "                                   tokenizer = tokenize_stopwords_stem,\n",
    "                                   max_features = 1000\n",
    "                                  )\n",
    "\n",
    "tfidf_vectorizer.fit(raw_df.text)\n",
    "inputs = tfidf_vectorizer.transform(raw_df.text)\n",
    "inputs.shape"
   ]
  },
  {
   "cell_type": "code",
   "execution_count": 33,
   "metadata": {},
   "outputs": [],
   "source": [
    "X_train_tfidf = inputs[train_index]\n",
    "X_test_tfidf = inputs[test_index]"
   ]
  },
  {
   "cell_type": "code",
   "execution_count": 34,
   "metadata": {},
   "outputs": [
    {
     "name": "stdout",
     "output_type": "stream",
     "text": [
      "              precision    recall  f1-score   support\n",
      "\n",
      "           0       0.72      0.56      0.63      2356\n",
      "           1       0.64      0.76      0.69      3343\n",
      "           2       0.76      0.72      0.74      2545\n",
      "\n",
      "    accuracy                           0.69      8244\n",
      "   macro avg       0.70      0.68      0.69      8244\n",
      "weighted avg       0.70      0.69      0.69      8244\n",
      "\n"
     ]
    }
   ],
   "source": [
    "xgb = XGBClassifier(max_depth = 10, random_state = 42, n_jobs=-1)\n",
    "xgb.fit(X_train_tfidf, y_train)\n",
    "\n",
    "xgb_predictions = xgb.predict(X_test_tfidf)\n",
    "print(classification_report(y_test, xgb_predictions))"
   ]
  },
  {
   "cell_type": "code",
   "execution_count": 35,
   "metadata": {},
   "outputs": [
    {
     "data": {
      "text/plain": [
       "Index(['happi', 'thank', 'nice', 'great', 'ugh', 'awesom', 'sad', 'suck',\n",
       "       'bore', 'hate'],\n",
       "      dtype='object')"
      ]
     },
     "execution_count": 35,
     "metadata": {},
     "output_type": "execute_result"
    }
   ],
   "source": [
    "feature_importance = pd.Series(xgb.feature_importances_, index = tfidf_vectorizer.get_feature_names_out(), name = 'imp').sort_values(ascending = False)\n",
    "feature_importance.index[:10]"
   ]
  },
  {
   "cell_type": "markdown",
   "metadata": {},
   "source": [
    "- Порівнюючи метрику f1-score macro avg, можна зробити висновок, що тренування класифікатора Хgboost з векторизацією тексту методом Bag of Words дає більш точний результат (значення метрики 0,70 проти 0,69).\n",
    "- При тренуваннні класифікатора з TF-IDF векторами список токенів, які найбільше впливаютьна результат, практично співпадає зі списком найважливіших токенів при Bag of Words векторизації (є відмінність в одному слові зі списку 10-ти найважливіших токенів і незначна різниця в порядку їх важливості)."
   ]
  },
  {
   "cell_type": "markdown",
   "metadata": {
    "id": "3zsp9KftOqyS"
   },
   "source": [
    "### Завдання 7. Аналіз помилок класифікації з векторизацією TF-IDF.\n",
    "\n",
    "- Проаналізуйте, на яких екземплярах помиляється класифікатор при векторизації TF-IDF.\n",
    "- На основі аналізу запропонуйте 3 шляхи поліпшення якості класифікації."
   ]
  },
  {
   "cell_type": "code",
   "execution_count": 36,
   "metadata": {},
   "outputs": [
    {
     "data": {
      "text/html": [
       "<div>\n",
       "<style scoped>\n",
       "    .dataframe tbody tr th:only-of-type {\n",
       "        vertical-align: middle;\n",
       "    }\n",
       "\n",
       "    .dataframe tbody tr th {\n",
       "        vertical-align: top;\n",
       "    }\n",
       "\n",
       "    .dataframe thead th {\n",
       "        text-align: right;\n",
       "    }\n",
       "</style>\n",
       "<table border=\"1\" class=\"dataframe\">\n",
       "  <thead>\n",
       "    <tr style=\"text-align: right;\">\n",
       "      <th></th>\n",
       "      <th>text</th>\n",
       "      <th>sentiment</th>\n",
       "      <th>pred</th>\n",
       "    </tr>\n",
       "  </thead>\n",
       "  <tbody>\n",
       "    <tr>\n",
       "      <th>1588</th>\n",
       "      <td>Enjoy! Family trumps everything</td>\n",
       "      <td>positive</td>\n",
       "      <td>positive</td>\n",
       "    </tr>\n",
       "    <tr>\n",
       "      <th>10413</th>\n",
       "      <td>--of them kinda turns me off of it all.  And ...</td>\n",
       "      <td>negative</td>\n",
       "      <td>neutral</td>\n",
       "    </tr>\n",
       "    <tr>\n",
       "      <th>6561</th>\n",
       "      <td>Clive it`s my birthday pat me  http://apps.fac...</td>\n",
       "      <td>neutral</td>\n",
       "      <td>neutral</td>\n",
       "    </tr>\n",
       "    <tr>\n",
       "      <th>2602</th>\n",
       "      <td>congrats hey</td>\n",
       "      <td>positive</td>\n",
       "      <td>neutral</td>\n",
       "    </tr>\n",
       "    <tr>\n",
       "      <th>4003</th>\n",
       "      <td>is texting</td>\n",
       "      <td>neutral</td>\n",
       "      <td>neutral</td>\n",
       "    </tr>\n",
       "  </tbody>\n",
       "</table>\n",
       "</div>"
      ],
      "text/plain": [
       "                                                    text sentiment      pred\n",
       "1588                     Enjoy! Family trumps everything  positive  positive\n",
       "10413   --of them kinda turns me off of it all.  And ...  negative   neutral\n",
       "6561   Clive it`s my birthday pat me  http://apps.fac...   neutral   neutral\n",
       "2602                                        congrats hey  positive   neutral\n",
       "4003                                          is texting   neutral   neutral"
      ]
     },
     "execution_count": 36,
     "metadata": {},
     "output_type": "execute_result"
    }
   ],
   "source": [
    "xgb_predictions = le.inverse_transform(xgb_predictions)\n",
    "test_df = pd.DataFrame(raw_df.loc[test_index, ['text', 'sentiment']])\n",
    "test_df['pred'] = xgb_predictions\n",
    "test_df.head()"
   ]
  },
  {
   "cell_type": "code",
   "execution_count": 37,
   "metadata": {},
   "outputs": [
    {
     "data": {
      "text/html": [
       "<div>\n",
       "<style scoped>\n",
       "    .dataframe tbody tr th:only-of-type {\n",
       "        vertical-align: middle;\n",
       "    }\n",
       "\n",
       "    .dataframe tbody tr th {\n",
       "        vertical-align: top;\n",
       "    }\n",
       "\n",
       "    .dataframe thead th {\n",
       "        text-align: right;\n",
       "    }\n",
       "</style>\n",
       "<table border=\"1\" class=\"dataframe\">\n",
       "  <thead>\n",
       "    <tr style=\"text-align: right;\">\n",
       "      <th></th>\n",
       "      <th>text</th>\n",
       "      <th>sentiment</th>\n",
       "      <th>pred</th>\n",
       "    </tr>\n",
       "  </thead>\n",
       "  <tbody>\n",
       "    <tr>\n",
       "      <th>10413</th>\n",
       "      <td>--of them kinda turns me off of it all.  And ...</td>\n",
       "      <td>negative</td>\n",
       "      <td>neutral</td>\n",
       "    </tr>\n",
       "    <tr>\n",
       "      <th>2602</th>\n",
       "      <td>congrats hey</td>\n",
       "      <td>positive</td>\n",
       "      <td>neutral</td>\n",
       "    </tr>\n",
       "    <tr>\n",
       "      <th>25013</th>\n",
       "      <td>oooh sounds yummy.  If you get a chance to ta...</td>\n",
       "      <td>positive</td>\n",
       "      <td>neutral</td>\n",
       "    </tr>\n",
       "    <tr>\n",
       "      <th>6717</th>\n",
       "      <td>At work... What a miserable day</td>\n",
       "      <td>negative</td>\n",
       "      <td>neutral</td>\n",
       "    </tr>\n",
       "    <tr>\n",
       "      <th>2830</th>\n",
       "      <td>I wish I had company</td>\n",
       "      <td>negative</td>\n",
       "      <td>positive</td>\n",
       "    </tr>\n",
       "  </tbody>\n",
       "</table>\n",
       "</div>"
      ],
      "text/plain": [
       "                                                    text sentiment      pred\n",
       "10413   --of them kinda turns me off of it all.  And ...  negative   neutral\n",
       "2602                                        congrats hey  positive   neutral\n",
       "25013   oooh sounds yummy.  If you get a chance to ta...  positive   neutral\n",
       "6717                     At work... What a miserable day  negative   neutral\n",
       "2830                                I wish I had company  negative  positive"
      ]
     },
     "execution_count": 37,
     "metadata": {},
     "output_type": "execute_result"
    }
   ],
   "source": [
    "err_df = test_df[test_df['sentiment'] != test_df['pred']]\n",
    "err_df.head()"
   ]
  },
  {
   "cell_type": "code",
   "execution_count": 38,
   "metadata": {},
   "outputs": [
    {
     "data": {
      "text/html": [
       "<div>\n",
       "<style scoped>\n",
       "    .dataframe tbody tr th:only-of-type {\n",
       "        vertical-align: middle;\n",
       "    }\n",
       "\n",
       "    .dataframe tbody tr th {\n",
       "        vertical-align: top;\n",
       "    }\n",
       "\n",
       "    .dataframe thead th {\n",
       "        text-align: right;\n",
       "    }\n",
       "</style>\n",
       "<table border=\"1\" class=\"dataframe\">\n",
       "  <thead>\n",
       "    <tr style=\"text-align: right;\">\n",
       "      <th></th>\n",
       "      <th>text</th>\n",
       "      <th>sentiment</th>\n",
       "      <th>pred</th>\n",
       "    </tr>\n",
       "  </thead>\n",
       "  <tbody>\n",
       "    <tr>\n",
       "      <th>2602</th>\n",
       "      <td>congrats hey</td>\n",
       "      <td>positive</td>\n",
       "      <td>neutral</td>\n",
       "    </tr>\n",
       "    <tr>\n",
       "      <th>25013</th>\n",
       "      <td>oooh sounds yummy.  If you get a chance to ta...</td>\n",
       "      <td>positive</td>\n",
       "      <td>neutral</td>\n",
       "    </tr>\n",
       "    <tr>\n",
       "      <th>4890</th>\n",
       "      <td>xD  hello that`s an important date!</td>\n",
       "      <td>positive</td>\n",
       "      <td>neutral</td>\n",
       "    </tr>\n",
       "    <tr>\n",
       "      <th>17381</th>\n",
       "      <td>FYI no internets until THURSTAG!!!! after satu...</td>\n",
       "      <td>positive</td>\n",
       "      <td>negative</td>\n",
       "    </tr>\n",
       "    <tr>\n",
       "      <th>17117</th>\n",
       "      <td>is helping  making a twitter account</td>\n",
       "      <td>positive</td>\n",
       "      <td>neutral</td>\n",
       "    </tr>\n",
       "    <tr>\n",
       "      <th>1227</th>\n",
       "      <td>I LLLOOOVVVEEE ICARLY</td>\n",
       "      <td>positive</td>\n",
       "      <td>neutral</td>\n",
       "    </tr>\n",
       "    <tr>\n",
       "      <th>20330</th>\n",
       "      <td>it always rains right after i get my car washed</td>\n",
       "      <td>positive</td>\n",
       "      <td>neutral</td>\n",
       "    </tr>\n",
       "    <tr>\n",
       "      <th>14603</th>\n",
       "      <td>45Th st pub anyone tonight? Dont want to be a ...</td>\n",
       "      <td>positive</td>\n",
       "      <td>negative</td>\n",
       "    </tr>\n",
       "    <tr>\n",
       "      <th>18846</th>\n",
       "      <td>I just got home.  i bought twiggies and a toot...</td>\n",
       "      <td>positive</td>\n",
       "      <td>neutral</td>\n",
       "    </tr>\n",
       "    <tr>\n",
       "      <th>312</th>\n",
       "      <td>DUSTBIN BABY ON AT 11.30 Cannot wait  x</td>\n",
       "      <td>positive</td>\n",
       "      <td>neutral</td>\n",
       "    </tr>\n",
       "  </tbody>\n",
       "</table>\n",
       "</div>"
      ],
      "text/plain": [
       "                                                    text sentiment      pred\n",
       "2602                                        congrats hey  positive   neutral\n",
       "25013   oooh sounds yummy.  If you get a chance to ta...  positive   neutral\n",
       "4890                 xD  hello that`s an important date!  positive   neutral\n",
       "17381  FYI no internets until THURSTAG!!!! after satu...  positive  negative\n",
       "17117               is helping  making a twitter account  positive   neutral\n",
       "1227                               I LLLOOOVVVEEE ICARLY  positive   neutral\n",
       "20330    it always rains right after i get my car washed  positive   neutral\n",
       "14603  45Th st pub anyone tonight? Dont want to be a ...  positive  negative\n",
       "18846  I just got home.  i bought twiggies and a toot...  positive   neutral\n",
       "312              DUSTBIN BABY ON AT 11.30 Cannot wait  x  positive   neutral"
      ]
     },
     "execution_count": 38,
     "metadata": {},
     "output_type": "execute_result"
    }
   ],
   "source": [
    "err_df[err_df['sentiment'] == 'positive'].head(10)"
   ]
  },
  {
   "cell_type": "code",
   "execution_count": 39,
   "metadata": {},
   "outputs": [
    {
     "data": {
      "text/html": [
       "<div>\n",
       "<style scoped>\n",
       "    .dataframe tbody tr th:only-of-type {\n",
       "        vertical-align: middle;\n",
       "    }\n",
       "\n",
       "    .dataframe tbody tr th {\n",
       "        vertical-align: top;\n",
       "    }\n",
       "\n",
       "    .dataframe thead th {\n",
       "        text-align: right;\n",
       "    }\n",
       "</style>\n",
       "<table border=\"1\" class=\"dataframe\">\n",
       "  <thead>\n",
       "    <tr style=\"text-align: right;\">\n",
       "      <th></th>\n",
       "      <th>text</th>\n",
       "      <th>sentiment</th>\n",
       "      <th>pred</th>\n",
       "    </tr>\n",
       "  </thead>\n",
       "  <tbody>\n",
       "    <tr>\n",
       "      <th>10413</th>\n",
       "      <td>--of them kinda turns me off of it all.  And ...</td>\n",
       "      <td>negative</td>\n",
       "      <td>neutral</td>\n",
       "    </tr>\n",
       "    <tr>\n",
       "      <th>6717</th>\n",
       "      <td>At work... What a miserable day</td>\n",
       "      <td>negative</td>\n",
       "      <td>neutral</td>\n",
       "    </tr>\n",
       "    <tr>\n",
       "      <th>2830</th>\n",
       "      <td>I wish I had company</td>\n",
       "      <td>negative</td>\n",
       "      <td>positive</td>\n",
       "    </tr>\n",
       "    <tr>\n",
       "      <th>21209</th>\n",
       "      <td>i`m on my mobile so it won`t let me  but i ca...</td>\n",
       "      <td>negative</td>\n",
       "      <td>neutral</td>\n",
       "    </tr>\n",
       "    <tr>\n",
       "      <th>16792</th>\n",
       "      <td>Intel gfx driver situation much better with re...</td>\n",
       "      <td>negative</td>\n",
       "      <td>positive</td>\n",
       "    </tr>\n",
       "    <tr>\n",
       "      <th>15660</th>\n",
       "      <td>I burnt my arm.  (just thought you should know)</td>\n",
       "      <td>negative</td>\n",
       "      <td>neutral</td>\n",
       "    </tr>\n",
       "    <tr>\n",
       "      <th>24796</th>\n",
       "      <td>No FAIR!</td>\n",
       "      <td>negative</td>\n",
       "      <td>neutral</td>\n",
       "    </tr>\n",
       "    <tr>\n",
       "      <th>4097</th>\n",
       "      <td>**** being broke on the day Guitar Hero Metall...</td>\n",
       "      <td>negative</td>\n",
       "      <td>neutral</td>\n",
       "    </tr>\n",
       "    <tr>\n",
       "      <th>20027</th>\n",
       "      <td>Yep! Tail between legs!</td>\n",
       "      <td>negative</td>\n",
       "      <td>neutral</td>\n",
       "    </tr>\n",
       "    <tr>\n",
       "      <th>23913</th>\n",
       "      <td>waiting to go to the movies later for my 6th m...</td>\n",
       "      <td>negative</td>\n",
       "      <td>neutral</td>\n",
       "    </tr>\n",
       "  </tbody>\n",
       "</table>\n",
       "</div>"
      ],
      "text/plain": [
       "                                                    text sentiment      pred\n",
       "10413   --of them kinda turns me off of it all.  And ...  negative   neutral\n",
       "6717                     At work... What a miserable day  negative   neutral\n",
       "2830                                I wish I had company  negative  positive\n",
       "21209   i`m on my mobile so it won`t let me  but i ca...  negative   neutral\n",
       "16792  Intel gfx driver situation much better with re...  negative  positive\n",
       "15660    I burnt my arm.  (just thought you should know)  negative   neutral\n",
       "24796                                           No FAIR!  negative   neutral\n",
       "4097   **** being broke on the day Guitar Hero Metall...  negative   neutral\n",
       "20027                            Yep! Tail between legs!  negative   neutral\n",
       "23913  waiting to go to the movies later for my 6th m...  negative   neutral"
      ]
     },
     "execution_count": 39,
     "metadata": {},
     "output_type": "execute_result"
    }
   ],
   "source": [
    "err_df[err_df['sentiment'] == 'negative'].head(10)"
   ]
  },
  {
   "cell_type": "code",
   "execution_count": 40,
   "metadata": {},
   "outputs": [
    {
     "data": {
      "text/html": [
       "<div>\n",
       "<style scoped>\n",
       "    .dataframe tbody tr th:only-of-type {\n",
       "        vertical-align: middle;\n",
       "    }\n",
       "\n",
       "    .dataframe tbody tr th {\n",
       "        vertical-align: top;\n",
       "    }\n",
       "\n",
       "    .dataframe thead th {\n",
       "        text-align: right;\n",
       "    }\n",
       "</style>\n",
       "<table border=\"1\" class=\"dataframe\">\n",
       "  <thead>\n",
       "    <tr style=\"text-align: right;\">\n",
       "      <th></th>\n",
       "      <th>text</th>\n",
       "      <th>sentiment</th>\n",
       "      <th>pred</th>\n",
       "    </tr>\n",
       "  </thead>\n",
       "  <tbody>\n",
       "    <tr>\n",
       "      <th>19670</th>\n",
       "      <td>Avoided cinder blocks! Safe in NY area.. But D...</td>\n",
       "      <td>neutral</td>\n",
       "      <td>negative</td>\n",
       "    </tr>\n",
       "    <tr>\n",
       "      <th>13346</th>\n",
       "      <td>My cat died of kidney failure during my math t...</td>\n",
       "      <td>neutral</td>\n",
       "      <td>positive</td>\n",
       "    </tr>\n",
       "    <tr>\n",
       "      <th>20883</th>\n",
       "      <td>Is sad clint hurdle got released. I liked him</td>\n",
       "      <td>neutral</td>\n",
       "      <td>negative</td>\n",
       "    </tr>\n",
       "    <tr>\n",
       "      <th>8786</th>\n",
       "      <td>oh i wish my dear Michael, i wish</td>\n",
       "      <td>neutral</td>\n",
       "      <td>positive</td>\n",
       "    </tr>\n",
       "    <tr>\n",
       "      <th>24375</th>\n",
       "      <td>haha! thanks, Tiff   it went well, but they W...</td>\n",
       "      <td>neutral</td>\n",
       "      <td>positive</td>\n",
       "    </tr>\n",
       "    <tr>\n",
       "      <th>4101</th>\n",
       "      <td>Had to cancel subscriptions today to NZZ and E...</td>\n",
       "      <td>neutral</td>\n",
       "      <td>negative</td>\n",
       "    </tr>\n",
       "    <tr>\n",
       "      <th>15582</th>\n",
       "      <td>http://twitpic.com/67kb6 - Sad day!  What a g...</td>\n",
       "      <td>neutral</td>\n",
       "      <td>negative</td>\n",
       "    </tr>\n",
       "    <tr>\n",
       "      <th>4400</th>\n",
       "      <td>cleaning cleaning cleaning today then working ...</td>\n",
       "      <td>neutral</td>\n",
       "      <td>positive</td>\n",
       "    </tr>\n",
       "    <tr>\n",
       "      <th>11326</th>\n",
       "      <td>RAIN why must you come 'after' I flat iron my ...</td>\n",
       "      <td>neutral</td>\n",
       "      <td>positive</td>\n",
       "    </tr>\n",
       "    <tr>\n",
       "      <th>15280</th>\n",
       "      <td>- i can do 'Nana' or 'Nana Rocks' for you in ...</td>\n",
       "      <td>neutral</td>\n",
       "      <td>positive</td>\n",
       "    </tr>\n",
       "  </tbody>\n",
       "</table>\n",
       "</div>"
      ],
      "text/plain": [
       "                                                    text sentiment      pred\n",
       "19670  Avoided cinder blocks! Safe in NY area.. But D...   neutral  negative\n",
       "13346  My cat died of kidney failure during my math t...   neutral  positive\n",
       "20883      Is sad clint hurdle got released. I liked him   neutral  negative\n",
       "8786                   oh i wish my dear Michael, i wish   neutral  positive\n",
       "24375   haha! thanks, Tiff   it went well, but they W...   neutral  positive\n",
       "4101   Had to cancel subscriptions today to NZZ and E...   neutral  negative\n",
       "15582   http://twitpic.com/67kb6 - Sad day!  What a g...   neutral  negative\n",
       "4400   cleaning cleaning cleaning today then working ...   neutral  positive\n",
       "11326  RAIN why must you come 'after' I flat iron my ...   neutral  positive\n",
       "15280   - i can do 'Nana' or 'Nana Rocks' for you in ...   neutral  positive"
      ]
     },
     "execution_count": 40,
     "metadata": {},
     "output_type": "execute_result"
    }
   ],
   "source": [
    "err_df[err_df['sentiment'] == 'neutral'].head(10)"
   ]
  },
  {
   "cell_type": "markdown",
   "metadata": {},
   "source": [
    "Модель помиляється у випадках:\n",
    "- виразів, які мають стале негативне значення, але всі слова взяті окремо не мають негативного характеру (приклад: `I wish I had company`). Можливе рішення – врахувати сталі вирази, ідіоми, фразові дієслова у моделі.\n",
    "- помилок в написанні (перекручуванні) слів, в результаті чого їх неможливо інтерпретувати як негативні чи позитивні (приклад: `I LLLOOOVVVEEE ICARLY`). Можливе рішення – додати в препроцесинг крок, який обрізатиме послідовність однакових символів, що йдуть один за одним (скорочувати до одного). Але це ризик зіпсувати слова, які дійсно мають подвоєння літер.\n",
    "- нерозуміння контексту, інтонації, як у прикладі `haha! thanks, Tiff it went well, but they W...`, який є нейтральним, але модель оцінила як позитивний. Ймовірно, наявність слів `haha`, `thanks`, `well` змусило модель це зробити, але вона не врахувала слова `but` після усіх позитивних слів (бо навіть не бачила цього слова, ми його видалили як стоп-слово). Можливо, до словника варто включити більше слів, які дозволять ловити настрої.  "
   ]
  },
  {
   "cell_type": "markdown",
   "metadata": {
    "id": "lFi4VWwjRS3h"
   },
   "source": [
    "І на фінал кернел для натхнення і ознайомлення з рішенням оригінальної задачі. Багато цікавих візуалізацій і аналізу є тут, а також тут розвʼязується саме проблема named entitty recognition і можна ознайомитись як це робиться - вона дещо складніша по своїй суті ніж класифікація, подумайте, чому:\n",
    "\n",
    "https://www.kaggle.com/code/tanulsingh077/twitter-sentiment-extaction-analysis-eda-and-model"
   ]
  }
 ],
 "metadata": {
  "colab": {
   "provenance": []
  },
  "kernelspec": {
   "display_name": "Python 3 (ipykernel)",
   "language": "python",
   "name": "python3"
  },
  "language_info": {
   "codemirror_mode": {
    "name": "ipython",
    "version": 3
   },
   "file_extension": ".py",
   "mimetype": "text/x-python",
   "name": "python",
   "nbconvert_exporter": "python",
   "pygments_lexer": "ipython3",
   "version": "3.9.21"
  }
 },
 "nbformat": 4,
 "nbformat_minor": 4
}
