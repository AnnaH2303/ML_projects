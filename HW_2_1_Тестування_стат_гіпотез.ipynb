{
 "cells": [
  {
   "cell_type": "markdown",
   "metadata": {
    "id": "ID3uSQHkQJ2J"
   },
   "source": [
    "В цьому ДЗ потренуємось виконувати Z-тести для тестування гіпотез в різних задачах. Для коректної імплементації та інтерпретації тестів рекоемндую переглянути спершу документацію:\n",
    "\n",
    "https://www.statsmodels.org/dev/generated/statsmodels.stats.weightstats.ztest.html\n",
    "\n",
    "### Завдання 1: Z-тест для однієї вибірки\n",
    "\n",
    "**Мета**: Перевірити, чи середнє значення вибірки відрізняється від гіпотетичного середнього.\n",
    "\n",
    "**Припущення**: Середній ріст студентів університету вважається 170 см. Ми хочемо перевірити, чи середній ріст випадкової вибірки студентів істотно більший. Вибірка задана в змінній `heights`.\n",
    "\n",
    "Для виконання завдання імпортуйте метод для проведення `ztest`, виконайте Z-тест з Python, виведіть p-value і зробіть заключення, чи справдилось припущення про середній зріст студентів на рівні значущості 0.05?\n",
    "\n",
    "Використовуємо тут Z-тест, оскільки вибірка достатньо велика (більше 30 екземплярів) і можемо вважати, що її стандартне відхилення близьке до ст. відхилення генеральної сукупності, а значить - відоме."
   ]
  },
  {
   "cell_type": "code",
   "execution_count": 1,
   "metadata": {
    "ExecuteTime": {
     "end_time": "2025-01-01T14:12:17.008366Z",
     "start_time": "2025-01-01T14:12:12.445080Z"
    },
    "id": "uTJEZPARYMd4"
   },
   "outputs": [],
   "source": [
    "import statsmodels.api as sm\n",
    "import numpy as np"
   ]
  },
  {
   "cell_type": "code",
   "execution_count": 2,
   "metadata": {
    "ExecuteTime": {
     "end_time": "2025-01-01T14:12:18.703799Z",
     "start_time": "2025-01-01T14:12:18.693494Z"
    }
   },
   "outputs": [],
   "source": [
    "from statsmodels.stats.weightstats import ztest"
   ]
  },
  {
   "cell_type": "code",
   "execution_count": 3,
   "metadata": {
    "ExecuteTime": {
     "end_time": "2025-01-01T14:12:19.694346Z",
     "start_time": "2025-01-01T14:12:19.686311Z"
    },
    "id": "TUYNSCDzRE7N"
   },
   "outputs": [],
   "source": [
    "heights = [174, 171, 175, 179, 170, 170, 179, 175, 169, 174, 169, 169, 173, 162, 163, 169, 166,\n",
    "           173, 167, 164, 179, 170, 172, 164, 169, 175, 169, 174, 169, 169, 173, 162, 177]"
   ]
  },
  {
   "cell_type": "markdown",
   "metadata": {},
   "source": [
    "Н0 – середній ріст випадкової вибірки студентів не відрізняється від 170 см\\\n",
    "Н1 – середній ріст випадкової вибірки студентів істотно більший за 170 см"
   ]
  },
  {
   "cell_type": "code",
   "execution_count": 4,
   "metadata": {
    "ExecuteTime": {
     "end_time": "2025-01-01T14:12:21.380129Z",
     "start_time": "2025-01-01T14:12:21.368761Z"
    }
   },
   "outputs": [],
   "source": [
    "alpha = 0.05\n",
    "null_mean = 170"
   ]
  },
  {
   "cell_type": "code",
   "execution_count": 5,
   "metadata": {
    "ExecuteTime": {
     "end_time": "2025-01-01T14:12:24.629065Z",
     "start_time": "2025-01-01T14:12:24.612041Z"
    }
   },
   "outputs": [
    {
     "data": {
      "text/plain": [
       "(0.8482235371587619, 0.19815674571091746)"
      ]
     },
     "execution_count": 5,
     "metadata": {},
     "output_type": "execute_result"
    }
   ],
   "source": [
    "ztest_Score, p_value = ztest(heights, value = null_mean, alternative = \"larger\")\n",
    "ztest_Score, p_value"
   ]
  },
  {
   "cell_type": "code",
   "execution_count": 6,
   "metadata": {
    "ExecuteTime": {
     "end_time": "2025-01-01T14:12:28.286853Z",
     "start_time": "2025-01-01T14:12:28.272718Z"
    }
   },
   "outputs": [
    {
     "name": "stdout",
     "output_type": "stream",
     "text": [
      "Н0 не може бути відхилена.\n"
     ]
    }
   ],
   "source": [
    "if (p_value < alpha):\n",
    "    print(\"Відхилити Н0.\")\n",
    "else:\n",
    "    print(\"Н0 не може бути відхилена.\")"
   ]
  },
  {
   "cell_type": "markdown",
   "metadata": {},
   "source": [
    "**Висновок: не маємо статистично значущої різниці між середнім зростом випадкової вибірки студентів і середнім зростом студентів, що вважається таким за замовчуванням**"
   ]
  },
  {
   "cell_type": "code",
   "execution_count": 7,
   "metadata": {
    "ExecuteTime": {
     "end_time": "2025-01-01T14:12:32.738680Z",
     "start_time": "2025-01-01T14:12:32.718760Z"
    }
   },
   "outputs": [
    {
     "data": {
      "text/plain": [
       "170.6969696969697"
      ]
     },
     "execution_count": 7,
     "metadata": {},
     "output_type": "execute_result"
    }
   ],
   "source": [
    "sample = np.mean(heights)\n",
    "sample"
   ]
  },
  {
   "cell_type": "markdown",
   "metadata": {},
   "source": [
    "**Якщо порівняти середнє значення вибірки зі значенням, взятим за замовчуванням, то також бачимо, що вони практично однакові. Це збігається з висновком статистичного тесту.**"
   ]
  },
  {
   "cell_type": "markdown",
   "metadata": {
    "id": "ga4iKM9kQa9Q"
   },
   "source": [
    "### Завдання 2: Z-тест для двох незалежних вибірок\n",
    "\n",
    "**Завдання 2.1.**\n",
    "\n",
    "**Мета**: Перевірити, чи існує статистична різниця між середніми оцінками двох груп студентів.\n",
    "\n",
    "**Припущення**: Група A отримала новий навчальний курс, а група B продовжувала зі стандартним курсом. Ми перевіряємо, чи є новий курс ефективнішим.\n",
    "\n",
    "Виконайте Z-тест з Python, виведіть p-value і зробіть заключення, чи справдилось припущення щодо студентів на рівні значущості 0.05?"
   ]
  },
  {
   "cell_type": "code",
   "execution_count": 8,
   "metadata": {
    "ExecuteTime": {
     "end_time": "2025-01-01T14:13:29.599801Z",
     "start_time": "2025-01-01T14:13:29.582315Z"
    },
    "id": "SngJjNBJTgBp"
   },
   "outputs": [],
   "source": [
    "group_a_scores = [78.55, 72.25, 79.88, 75.  , 76.54, 74.99, 87.26, 77.93, 72.71,\n",
    "       82.11, 71.9 , 79.04, 68.2 , 71.36, 78.98, 81.69, 78.86, 77.42,\n",
    "       76.49, 70.61, 74.4 , 75.7 , 83.29, 79.72, 69.18, 79.62, 76.07,\n",
    "       74.62, 81.06, 83.15, 82.66, 73.8 , 76.45, 79.66, 82.88, 75.6 ,\n",
    "       77.07, 72.47, 72.02, 82.06]\n",
    "\n",
    "group_b_scores = [81.78, 74.64, 80.02, 76.81, 71.77, 76.81, 82.69, 74.82, 82.82,\n",
    "       61.9 , 79.11, 75.44, 73.5 , 75.46, 65.06, 73.9 , 76.79, 82.39,\n",
    "       72.41, 70.96, 72.49, 79.58, 76.64, 72.35, 77.57, 75.49, 79.84,\n",
    "       71.49, 73.36, 73.04, 67.68, 76.48, 76.31, 75.03, 73.83, 67.92,\n",
    "       72.9 , 73.29, 70.99, 74.19]"
   ]
  },
  {
   "cell_type": "markdown",
   "metadata": {},
   "source": [
    "Н0 – немає статистичної різниці між середніми оцінками двох груп студентів\\\n",
    "Н1 – є статистична різниця між середніми оцінками двох груп студентів, новий курс ефективніший"
   ]
  },
  {
   "cell_type": "code",
   "execution_count": 9,
   "metadata": {
    "ExecuteTime": {
     "end_time": "2025-01-01T14:13:36.040579Z",
     "start_time": "2025-01-01T14:13:36.025113Z"
    }
   },
   "outputs": [],
   "source": [
    "ztest_score, p_value = ztest(group_a_scores, group_b_scores, value = 0)"
   ]
  },
  {
   "cell_type": "code",
   "execution_count": 10,
   "metadata": {
    "ExecuteTime": {
     "end_time": "2025-01-01T14:13:41.009989Z",
     "start_time": "2025-01-01T14:13:40.990437Z"
    }
   },
   "outputs": [
    {
     "data": {
      "text/plain": [
       "(2.357354864751502, 0.01840564855252801)"
      ]
     },
     "execution_count": 10,
     "metadata": {},
     "output_type": "execute_result"
    }
   ],
   "source": [
    "ztest_score, p_value"
   ]
  },
  {
   "cell_type": "markdown",
   "metadata": {},
   "source": [
    "**Статистика для двох вибірок z-критерію становить 2.35735, а відповідне р-value дорівнює 0.0184.\n",
    "Оскільки p-value < 0.05, ми можемо відкинути нульову гіпотезу і зробити висновок, що статистична різниця між середніми оцінками двох груп студентів суттєва і новий курс є ефективнішим.** "
   ]
  },
  {
   "cell_type": "code",
   "execution_count": 11,
   "metadata": {
    "ExecuteTime": {
     "end_time": "2025-01-01T14:14:07.105096Z",
     "start_time": "2025-01-01T14:14:07.087698Z"
    },
    "id": "CvftCAEHYPKL"
   },
   "outputs": [
    {
     "data": {
      "text/plain": [
       "(77.08125, 74.73875000000001)"
      ]
     },
     "execution_count": 11,
     "metadata": {},
     "output_type": "execute_result"
    }
   ],
   "source": [
    "np.mean(group_a_scores), np.mean(group_b_scores)"
   ]
  },
  {
   "cell_type": "markdown",
   "metadata": {},
   "source": [
    "**Якщо порівняти середні оцінки груп А і В, то також бачимо, що різниця суттєва, новий курс ефективніший. Це збігається з висновком статистичного тесту.**"
   ]
  },
  {
   "cell_type": "markdown",
   "metadata": {
    "id": "zOxz2tU0VpJM"
   },
   "source": [
    "**Завдання 2.2.**\n",
    "\n",
    "\n",
    "**Мета**: Побачити, як впливає розмір вибірок на результат тесту.\n",
    "\n",
    "**Завдання**: Уявіть, що з групи А ми маємо тільки перші 5 записів, а з групи В - усі. Таке могло статись, якщо ми вже маємо результати тестів учнів за попередньою програмою, а тести за новою програмою здали наразі лише 5 учнів і ми вирішили не чекати довше.\n",
    "Виберіть перші 5 записів для групи А і проведіть t-test (для цього використовуємо наступний [метод](https://docs.scipy.org/doc/scipy/reference/generated/scipy.stats.ttest_ind.html)). Виведіть значення p-value. Зробіть висновок, який результат ви бачите щодо стат. значущості на рівні 0.05 для цього експерименту?\n",
    "\n",
    "Тут проводимо t-test оскільки одна з вибірок - дуже мала."
   ]
  },
  {
   "cell_type": "code",
   "execution_count": 12,
   "metadata": {
    "ExecuteTime": {
     "end_time": "2025-01-01T14:14:20.869111Z",
     "start_time": "2025-01-01T14:14:20.863132Z"
    }
   },
   "outputs": [],
   "source": [
    "import scipy.stats as stats\n",
    "from scipy.stats import ttest_ind"
   ]
  },
  {
   "cell_type": "code",
   "execution_count": 13,
   "metadata": {
    "ExecuteTime": {
     "end_time": "2025-01-01T14:14:25.785073Z",
     "start_time": "2025-01-01T14:14:25.777971Z"
    },
    "id": "D9znE6liYQmP"
   },
   "outputs": [
    {
     "data": {
      "text/plain": [
       "[78.55, 72.25, 79.88, 75.0, 76.54]"
      ]
     },
     "execution_count": 13,
     "metadata": {},
     "output_type": "execute_result"
    }
   ],
   "source": [
    "group_a_scores_cut = group_a_scores[:5]\n",
    "group_a_scores_cut"
   ]
  },
  {
   "cell_type": "code",
   "execution_count": 14,
   "metadata": {
    "ExecuteTime": {
     "end_time": "2025-01-01T14:14:37.398602Z",
     "start_time": "2025-01-01T14:14:37.386642Z"
    }
   },
   "outputs": [
    {
     "data": {
      "text/plain": [
       "(0.8167951030410814, 0.4185479477535733)"
      ]
     },
     "execution_count": 14,
     "metadata": {},
     "output_type": "execute_result"
    }
   ],
   "source": [
    "ttest_score, p_value = ttest_ind(group_a_scores_cut, group_b_scores)\n",
    "ttest_score, p_value"
   ]
  },
  {
   "cell_type": "markdown",
   "metadata": {},
   "source": [
    "**Оскільки р-value дорівнює 0.4185 і це більше рівня 0.05, нульова гіпотеза не може бути відхилена і ми не можемо в цьому випадку стверджувати, що новий курс є ефективнішим.**"
   ]
  },
  {
   "cell_type": "markdown",
   "metadata": {
    "id": "3TcRHLLz0SLw"
   },
   "source": [
    "\n",
    "### Завдання 3\\*: Z-тест для двох **пов'язаних** вибірок\n",
    "\n",
    "**Мета**: Перевірити, чи вплинув тренінг на продуктивність працівників, коли всі справробітники проходили тренінг.\n",
    "\n",
    "**Припущення**: Наші працівники проходять однаковий тренінг, і ми хочемо з'ясувати, чи покращилися їхні показники після тренінгу на рівні значущості 0.05. Виконайте Z-тест з Python, виведіть p-value і зробіть заключення, чи поліпшились показники працівників на рівні значущості 0.05?\n",
    "\n",
    "Зверніть увагу, ці вибірки повʼязані між собою, значить не буде коректно виконати z-test між ними, натомість, ми можемо порівняти, чи різниця в результатах (продуктивності співробітників) є стат значущою."
   ]
  },
  {
   "cell_type": "code",
   "execution_count": 15,
   "metadata": {
    "ExecuteTime": {
     "end_time": "2025-01-01T14:15:17.848788Z",
     "start_time": "2025-01-01T14:15:17.830296Z"
    },
    "id": "uxrjagJFW1GC"
   },
   "outputs": [],
   "source": [
    "before_training = [57.82, 37.63, 36.8 , 55.22, 52.97, 52.5 , 53.46, 43.2 , 52.32,\n",
    "       52.93, 42.86, 68.66, 54.74, 38.09, 56.57, 40.25, 57.87, 61.59,\n",
    "       41.79, 59.63, 54.13, 58.22, 68.97, 47.55, 42.46, 41.1 , 41.84,\n",
    "       49.23, 53.41, 52.77]\n",
    "\n",
    "after_training = [62.47, 40.66, 42.7 , 57.69, 61.41, 56.76, 54.75, 44.06, 56.29,\n",
    "       55.48, 47.28, 72.6 , 57.59, 39.39, 56.54, 42.36, 62.58, 65.01,\n",
    "       42.3 , 62.98, 57.9 , 59.45, 72.28, 50.66, 43.18, 44.82, 45.96,\n",
    "       54.4 , 58.52, 53.01]"
   ]
  },
  {
   "cell_type": "markdown",
   "metadata": {
    "id": "NwCsN91OYSpN"
   },
   "source": [
    "Н0 – показники працівників після тренінгу не змінились\\\n",
    "Н1 – показники працівників після тренінгу покращились"
   ]
  },
  {
   "cell_type": "code",
   "execution_count": 16,
   "metadata": {
    "ExecuteTime": {
     "end_time": "2025-01-01T14:15:34.737452Z",
     "start_time": "2025-01-01T14:15:34.724473Z"
    }
   },
   "outputs": [
    {
     "data": {
      "text/plain": [
       "array([ 4.65,  3.03,  5.9 ,  2.47,  8.44,  4.26,  1.29,  0.86,  3.97,\n",
       "        2.55,  4.42,  3.94,  2.85,  1.3 , -0.03,  2.11,  4.71,  3.42,\n",
       "        0.51,  3.35,  3.77,  1.23,  3.31,  3.11,  0.72,  3.72,  4.12,\n",
       "        5.17,  5.11,  0.24])"
      ]
     },
     "execution_count": 16,
     "metadata": {},
     "output_type": "execute_result"
    }
   ],
   "source": [
    "difference = np.array(after_training) - np.array(before_training)\n",
    "difference"
   ]
  },
  {
   "cell_type": "code",
   "execution_count": 17,
   "metadata": {
    "ExecuteTime": {
     "end_time": "2025-01-01T14:15:48.602710Z",
     "start_time": "2025-01-01T14:15:48.597727Z"
    }
   },
   "outputs": [],
   "source": [
    "alpha = 0.05\n",
    "null_mean = 0"
   ]
  },
  {
   "cell_type": "code",
   "execution_count": 18,
   "metadata": {
    "ExecuteTime": {
     "end_time": "2025-01-01T14:16:04.837906Z",
     "start_time": "2025-01-01T14:16:04.822843Z"
    }
   },
   "outputs": [
    {
     "data": {
      "text/plain": [
       "(9.13890009623916, 3.1545359919175505e-20)"
      ]
     },
     "execution_count": 18,
     "metadata": {},
     "output_type": "execute_result"
    }
   ],
   "source": [
    "ztest_Score, p_value = ztest(difference, value = null_mean, alternative = \"larger\")\n",
    "ztest_Score, p_value"
   ]
  },
  {
   "cell_type": "code",
   "execution_count": 19,
   "metadata": {
    "ExecuteTime": {
     "end_time": "2025-01-01T14:16:07.881294Z",
     "start_time": "2025-01-01T14:16:07.874371Z"
    }
   },
   "outputs": [
    {
     "name": "stdout",
     "output_type": "stream",
     "text": [
      "Відхилити Н0.\n"
     ]
    }
   ],
   "source": [
    "if (p_value < alpha):\n",
    "    print(\"Відхилити Н0.\")\n",
    "else:\n",
    "    print(\"Н0 не може бути відхилена.\")"
   ]
  },
  {
   "cell_type": "markdown",
   "metadata": {},
   "source": [
    "**Можемо сміливо відкинути нульову гіпотезу і зробити висновок, що показники працівників після тренінгу покращились.**"
   ]
  },
  {
   "cell_type": "code",
   "execution_count": 20,
   "metadata": {
    "ExecuteTime": {
     "end_time": "2025-01-01T14:16:34.182254Z",
     "start_time": "2025-01-01T14:16:34.161856Z"
    }
   },
   "outputs": [
    {
     "data": {
      "text/plain": [
       "(50.885999999999996, 54.03600000000001)"
      ]
     },
     "execution_count": 20,
     "metadata": {},
     "output_type": "execute_result"
    }
   ],
   "source": [
    "np.mean(before_training), np.mean(after_training)"
   ]
  },
  {
   "cell_type": "markdown",
   "metadata": {},
   "source": [
    "**Якщо порівняємо середні показники працівників до та після тренінгу, то також бачимо, що ріниця суттєва. І це збігається з висновком статистичного тесту.**"
   ]
  }
 ],
 "metadata": {
  "colab": {
   "provenance": []
  },
  "kernelspec": {
   "display_name": "Python 3 (ipykernel)",
   "language": "python",
   "name": "python3"
  },
  "language_info": {
   "codemirror_mode": {
    "name": "ipython",
    "version": 3
   },
   "file_extension": ".py",
   "mimetype": "text/x-python",
   "name": "python",
   "nbconvert_exporter": "python",
   "pygments_lexer": "ipython3",
   "version": "3.7.5"
  },
  "toc": {
   "base_numbering": 1,
   "nav_menu": {},
   "number_sections": true,
   "sideBar": true,
   "skip_h1_title": false,
   "title_cell": "Table of Contents",
   "title_sidebar": "Contents",
   "toc_cell": false,
   "toc_position": {},
   "toc_section_display": true,
   "toc_window_display": false
  }
 },
 "nbformat": 4,
 "nbformat_minor": 1
}
