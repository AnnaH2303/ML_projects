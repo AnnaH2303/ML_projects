{
 "cells": [
  {
   "cell_type": "markdown",
   "metadata": {
    "id": "efug1V4CM0lT"
   },
   "source": [
    "### Завдання 1: Створення матриць та векторів\n",
    "1. Створіть `numpy` вектор `vector` розмірністю 10 з випадковими дійсними значеннями в діапазоні від 0 до 1. Можна скористатись двома альтернативними варіантами:\n",
    "  1. Генерація випадкових чисел з модулем [`random.uniform`](https://docs.python.org/3/library/random.html).\n",
    "  2. Створення вектора з допомогою метода `numpy` [np.random.rand](https://numpy.org/doc/stable/reference/random/generated/numpy.random.rand.html)\n",
    "\n",
    "2. Створіть матрицю `matrix` типу `numpy.array` розмірності 3x3 з наступними значеннями\n",
    "\n",
    "  $$\n",
    "  matrix = \\begin{bmatrix}\n",
    "  11 & 14 & 17 \\\\\n",
    "  20 & 23 & 26 \\\\\n",
    "  29 & 32 & 35\n",
    "  \\end{bmatrix}\n",
    "  $$\n",
    "\n",
    "  будь-яким відомими Вам способом.\n",
    "\n",
    "Виведіть на екран вектор і матрицю, а також їх розміри.\n"
   ]
  },
  {
   "cell_type": "code",
   "execution_count": 1,
   "metadata": {
    "ExecuteTime": {
     "end_time": "2025-01-07T20:03:29.131512Z",
     "start_time": "2025-01-07T20:03:29.033706Z"
    },
    "id": "jxA_lG2_VIMe"
   },
   "outputs": [],
   "source": [
    "import numpy as np"
   ]
  },
  {
   "cell_type": "code",
   "execution_count": 2,
   "metadata": {
    "ExecuteTime": {
     "end_time": "2025-01-07T20:03:31.557428Z",
     "start_time": "2025-01-07T20:03:31.548457Z"
    }
   },
   "outputs": [
    {
     "name": "stdout",
     "output_type": "stream",
     "text": [
      "Вектор-стовпець vector:\n",
      "[[0.59265007]\n",
      " [0.47889521]\n",
      " [0.66460778]\n",
      " [0.47150122]\n",
      " [0.82614336]\n",
      " [0.30796583]\n",
      " [0.92877442]\n",
      " [0.28881642]\n",
      " [0.9561923 ]\n",
      " [0.61529256]]\n",
      "\n",
      "Розмір вектора (10, 1)\n"
     ]
    }
   ],
   "source": [
    "vector = np.random.rand(10,1)\n",
    "print(\"Вектор-стовпець vector:\")\n",
    "print(vector)\n",
    "print(f\"\\nРозмір вектора {vector.shape}\")"
   ]
  },
  {
   "cell_type": "code",
   "execution_count": 3,
   "metadata": {
    "ExecuteTime": {
     "end_time": "2025-01-07T20:03:33.766310Z",
     "start_time": "2025-01-07T20:03:33.748011Z"
    }
   },
   "outputs": [
    {
     "name": "stdout",
     "output_type": "stream",
     "text": [
      "Матриця matrix:\n",
      "[[11 14 17]\n",
      " [20 23 26]\n",
      " [29 32 35]]\n",
      "\n",
      "Розмір матриці (3, 3)\n"
     ]
    }
   ],
   "source": [
    "matrix = np.array([[11, 14, 17],\n",
    "        [20, 23, 26],\n",
    "        [29, 32, 35]])\n",
    "print(\"Матриця matrix:\")\n",
    "print(matrix)\n",
    "print(f\"\\nРозмір матриці {matrix.shape}\")"
   ]
  },
  {
   "cell_type": "markdown",
   "metadata": {
    "id": "TSJ1P4OuOVe2"
   },
   "source": [
    "\n",
    "### Завдання 2: Операції над векторами та матрицями\n",
    "Виконайте кожну з зазначених операцій над зазначеними оʼєктами і виведіть результат на екран:\n",
    "1. Додайте до кожного значення вектора `vector` число 10 і округліть кожне значення до 2 знаків після коми без використання циклів.\n",
    "2. Помножте кожен елемент матриці з першого завдання на 2 без використання циклів.\n",
    "3. Створіть новий вектор, який містить квадрат кожного `vector` без циклів.\n"
   ]
  },
  {
   "cell_type": "code",
   "execution_count": 4,
   "metadata": {
    "ExecuteTime": {
     "end_time": "2025-01-07T20:03:45.051333Z",
     "start_time": "2025-01-07T20:03:45.043394Z"
    },
    "id": "nAAojtyUVJXN"
   },
   "outputs": [
    {
     "name": "stdout",
     "output_type": "stream",
     "text": [
      "Вектор vector після додання константи 10:\n",
      "[[10.59]\n",
      " [10.48]\n",
      " [10.66]\n",
      " [10.47]\n",
      " [10.83]\n",
      " [10.31]\n",
      " [10.93]\n",
      " [10.29]\n",
      " [10.96]\n",
      " [10.62]]\n"
     ]
    }
   ],
   "source": [
    "# 1. Додання до вектора константи 10\n",
    "vector_add_const = np.round(10 + vector,2)\n",
    "print(\"Вектор vector після додання константи 10:\")\n",
    "print(vector_add_const)"
   ]
  },
  {
   "cell_type": "code",
   "execution_count": 5,
   "metadata": {
    "ExecuteTime": {
     "end_time": "2025-01-07T20:03:46.027567Z",
     "start_time": "2025-01-07T20:03:46.009464Z"
    }
   },
   "outputs": [
    {
     "name": "stdout",
     "output_type": "stream",
     "text": [
      "Матриця matrix після множення на константу 2:\n",
      "[[22 28 34]\n",
      " [40 46 52]\n",
      " [58 64 70]]\n"
     ]
    }
   ],
   "source": [
    "# 2. Множення матриці на константу 2\n",
    "matrix_mult_const = 2 * matrix\n",
    "print(\"Матриця matrix після множення на константу 2:\")\n",
    "print(matrix_mult_const)"
   ]
  },
  {
   "cell_type": "code",
   "execution_count": 6,
   "metadata": {
    "ExecuteTime": {
     "end_time": "2025-01-07T20:03:46.678832Z",
     "start_time": "2025-01-07T20:03:46.661814Z"
    }
   },
   "outputs": [
    {
     "name": "stdout",
     "output_type": "stream",
     "text": [
      "Вектор vector після піднесення елементів до квадрату:\n",
      "[[0.35123411]\n",
      " [0.22934062]\n",
      " [0.4417035 ]\n",
      " [0.2223134 ]\n",
      " [0.68251285]\n",
      " [0.09484295]\n",
      " [0.86262192]\n",
      " [0.08341492]\n",
      " [0.91430372]\n",
      " [0.37858493]]\n"
     ]
    }
   ],
   "source": [
    "# 3. Піднесення кожного елемента вектора до квадрату\n",
    "vector_sqr = vector ** 2\n",
    "print(\"Вектор vector після піднесення елементів до квадрату:\")\n",
    "print(vector_sqr)"
   ]
  },
  {
   "cell_type": "markdown",
   "metadata": {
    "id": "u6RvWVfhPy-k"
   },
   "source": [
    "\n",
    "### Завдання 3: Множення матриць\n",
    "1. Задані дві матриці `A` і `B`розмірностями 3x2 та 2х3. Виконайте їхнє множення, щоб отримати матрицю 2x2. Виведіть результуючу матрицю `result_matrix` на екран.\n",
    "\n",
    "2. Заданий вектор `C` розмірністю 2х1. Подумайте спочатку, яку розмірність Ви отрмаєте, коли домножите `result_matrix` на вектор `C` і який результат буде. А потім виконайте множення і виведіть результат на екран.\n",
    "\n",
    "3. Задана матриця `D` розмірністю 2х2. Подумайте спочатку, яку розмірність Ви отрмаєте, коли домножите `result_matrix` на матрицю `D` і який результат буде. А потім виконайте множення і виведіть результат на екран."
   ]
  },
  {
   "cell_type": "code",
   "execution_count": 7,
   "metadata": {
    "ExecuteTime": {
     "end_time": "2025-01-07T20:03:48.921369Z",
     "start_time": "2025-01-07T20:03:48.893221Z"
    },
    "id": "RwXfPzlbSJ44"
   },
   "outputs": [
    {
     "data": {
      "text/plain": [
       "array([[0.18, 0.53],\n",
       "       [0.75, 0.47],\n",
       "       [0.35, 0.21]])"
      ]
     },
     "metadata": {},
     "output_type": "display_data"
    },
    {
     "data": {
      "text/plain": [
       "array([[0.17, 0.58, 0.75],\n",
       "       [0.38, 0.11, 0.15]])"
      ]
     },
     "metadata": {},
     "output_type": "display_data"
    },
    {
     "data": {
      "text/plain": [
       "array([[0],\n",
       "       [1]])"
      ]
     },
     "metadata": {},
     "output_type": "display_data"
    },
    {
     "data": {
      "text/plain": [
       "array([[0, 1],\n",
       "       [1, 0]])"
      ]
     },
     "metadata": {},
     "output_type": "display_data"
    }
   ],
   "source": [
    "A = np.array(\n",
    "    [[0.18, 0.53],\n",
    "     [0.75, 0.47],\n",
    "     [0.35, 0.21]])\n",
    "\n",
    "B = np.array(\n",
    "    [[0.17, 0.58, 0.75],\n",
    "     [0.38, 0.11, 0.15]])\n",
    "\n",
    "C = np.array([[0], [1]])\n",
    "\n",
    "D = np.array([[0,1], [1,0]])\n",
    "\n",
    "display(A, B, C, D)"
   ]
  },
  {
   "cell_type": "code",
   "execution_count": 8,
   "metadata": {
    "ExecuteTime": {
     "end_time": "2025-01-07T20:03:53.002396Z",
     "start_time": "2025-01-07T20:03:52.995575Z"
    },
    "id": "z7-boTbhVKkj"
   },
   "outputs": [
    {
     "name": "stdout",
     "output_type": "stream",
     "text": [
      "Результат множення матриць А і В:\n",
      "[[0.7281 0.5202]\n",
      " [0.2034 0.2846]]\n"
     ]
    }
   ],
   "source": [
    "# 1. Множення матриць А і В\n",
    "result_matrix = np.dot(B, A)\n",
    "print(\"Результат множення матриць А і В:\")\n",
    "print(result_matrix)"
   ]
  },
  {
   "cell_type": "code",
   "execution_count": 9,
   "metadata": {
    "ExecuteTime": {
     "end_time": "2025-01-07T20:03:57.028534Z",
     "start_time": "2025-01-07T20:03:57.011119Z"
    }
   },
   "outputs": [
    {
     "name": "stdout",
     "output_type": "stream",
     "text": [
      "Результат множення матриць result_matrix і C:\n",
      "[[0.5202]\n",
      " [0.2846]]\n"
     ]
    }
   ],
   "source": [
    "# 2. Множення матриці result_matrix на вектор С\n",
    "result_matrix_C = np.dot(result_matrix, C)\n",
    "print(\"Результат множення матриць result_matrix і C:\")\n",
    "print(result_matrix_C)"
   ]
  },
  {
   "cell_type": "code",
   "execution_count": 10,
   "metadata": {
    "ExecuteTime": {
     "end_time": "2025-01-07T20:03:57.553491Z",
     "start_time": "2025-01-07T20:03:57.540527Z"
    }
   },
   "outputs": [
    {
     "name": "stdout",
     "output_type": "stream",
     "text": [
      "Результат множення матриць result_matrix і D:\n",
      "[[0.5202 0.7281]\n",
      " [0.2846 0.2034]]\n"
     ]
    }
   ],
   "source": [
    "# 3. Множення матриці result_matrix на матрицю D\n",
    "result_matrix_D = np.dot(result_matrix, D)\n",
    "print(\"Результат множення матриць result_matrix і D:\")\n",
    "print(result_matrix_D)"
   ]
  },
  {
   "cell_type": "markdown",
   "metadata": {
    "id": "wohp0_cxSGpl"
   },
   "source": [
    "\n",
    "### Завдання 4: Транспонування матриць\n",
    "1. Транспонуйте `result_matrix`.\n",
    "2. Зробіть транспонування вектора `vector` і виведіть форму нової структури. Чи бачите ви зміну?\n",
    "3. Використайте операцію `numpy.expand_dims` над вектором `vector` з аргументом axis=1. Запишіть отриманий результат в змінну `column_vector` і виведіть на екран. Порівняйте з `vector`.\n",
    "4. Зробіть транспонування `column_vector`, виведіть результат на екран разом з розмірностями отриманої структури.\n",
    "\n",
    "\n"
   ]
  },
  {
   "cell_type": "code",
   "execution_count": 11,
   "metadata": {
    "ExecuteTime": {
     "end_time": "2025-01-07T20:04:00.855112Z",
     "start_time": "2025-01-07T20:04:00.841686Z"
    },
    "id": "4hFcq1baVLii"
   },
   "outputs": [
    {
     "name": "stdout",
     "output_type": "stream",
     "text": [
      "Матриця result_matrix транспонована:\n",
      "[[0.7281 0.2034]\n",
      " [0.5202 0.2846]]\n"
     ]
    }
   ],
   "source": [
    "# 1. Транспонування матриці result_matrix\n",
    "result_matrix_T = result_matrix.T\n",
    "print(\"Матриця result_matrix транспонована:\")\n",
    "print(result_matrix_T)"
   ]
  },
  {
   "cell_type": "code",
   "execution_count": 12,
   "metadata": {
    "ExecuteTime": {
     "end_time": "2025-01-07T20:04:04.727764Z",
     "start_time": "2025-01-07T20:04:04.714580Z"
    }
   },
   "outputs": [
    {
     "name": "stdout",
     "output_type": "stream",
     "text": [
      "Вектор vector транспонований:\n",
      "[[0.59265007 0.47889521 0.66460778 0.47150122 0.82614336 0.30796583\n",
      "  0.92877442 0.28881642 0.9561923  0.61529256]]\n",
      "\n",
      "Розмір вектора vector транспонованого (1, 10)\n"
     ]
    }
   ],
   "source": [
    "# 2. Транспонування вектора vector\n",
    "vector_T = vector.T\n",
    "print(\"Вектор vector транспонований:\")\n",
    "print(vector_T)\n",
    "print(f\"\\nРозмір вектора vector транспонованого {vector_T.shape}\")"
   ]
  },
  {
   "cell_type": "code",
   "execution_count": 13,
   "metadata": {
    "ExecuteTime": {
     "end_time": "2025-01-07T20:04:05.299727Z",
     "start_time": "2025-01-07T20:04:05.280426Z"
    }
   },
   "outputs": [
    {
     "data": {
      "text/plain": [
       "array([[[0.59265007]],\n",
       "\n",
       "       [[0.47889521]],\n",
       "\n",
       "       [[0.66460778]],\n",
       "\n",
       "       [[0.47150122]],\n",
       "\n",
       "       [[0.82614336]],\n",
       "\n",
       "       [[0.30796583]],\n",
       "\n",
       "       [[0.92877442]],\n",
       "\n",
       "       [[0.28881642]],\n",
       "\n",
       "       [[0.9561923 ]],\n",
       "\n",
       "       [[0.61529256]]])"
      ]
     },
     "execution_count": 13,
     "metadata": {},
     "output_type": "execute_result"
    }
   ],
   "source": [
    "# 3. Операція numpy.expand_dims над вектором vector\n",
    "column_vector = np.expand_dims(vector, axis = 1)\n",
    "column_vector"
   ]
  },
  {
   "cell_type": "code",
   "execution_count": 14,
   "metadata": {
    "ExecuteTime": {
     "end_time": "2025-01-07T20:04:08.891898Z",
     "start_time": "2025-01-07T20:04:08.882927Z"
    }
   },
   "outputs": [
    {
     "name": "stdout",
     "output_type": "stream",
     "text": [
      "Вектор column_vector транспонований:\n",
      "[[[0.59265007 0.47889521 0.66460778 0.47150122 0.82614336 0.30796583\n",
      "   0.92877442 0.28881642 0.9561923  0.61529256]]]\n",
      "\n",
      "Розмір вектора column_vector транспонованого (1, 1, 10)\n"
     ]
    }
   ],
   "source": [
    "# 4. Транспонування вектора column_vector\n",
    "column_vector_T = column_vector.T\n",
    "print(\"Вектор column_vector транспонований:\")\n",
    "print(column_vector_T)\n",
    "print(f\"\\nРозмір вектора column_vector транспонованого {column_vector_T.shape}\")"
   ]
  }
 ],
 "metadata": {
  "colab": {
   "provenance": []
  },
  "kernelspec": {
   "display_name": "Python 3 (ipykernel)",
   "language": "python",
   "name": "python3"
  },
  "language_info": {
   "codemirror_mode": {
    "name": "ipython",
    "version": 3
   },
   "file_extension": ".py",
   "mimetype": "text/x-python",
   "name": "python",
   "nbconvert_exporter": "python",
   "pygments_lexer": "ipython3",
   "version": "3.7.5"
  },
  "toc": {
   "base_numbering": 1,
   "nav_menu": {},
   "number_sections": true,
   "sideBar": true,
   "skip_h1_title": false,
   "title_cell": "Table of Contents",
   "title_sidebar": "Contents",
   "toc_cell": false,
   "toc_position": {},
   "toc_section_display": true,
   "toc_window_display": false
  }
 },
 "nbformat": 4,
 "nbformat_minor": 1
}
