{
 "cells": [
  {
   "cell_type": "markdown",
   "metadata": {
    "id": "KxRmdyv5CIZe"
   },
   "source": [
    "В цьому домашньому завданні ми реалізуємо логістичну регресію на `numpy`.\n",
    "Ці завдання допоможуть вам ґрунтовно засвоїти основні концепції логістичної регресії та реалізувати їх на практиці 🔥\n",
    "\n",
    "#### Завдання 1: Реалізація функції сигмоїди\n",
    "1. З використанням `numpy` напишіть функцію `sigmoid(z)` для обчислення значення сигмоїди згідно з формулою:\n",
    "   $$\n",
    "   \\sigma(z) = \\frac{1}{1 + e^{-z}}\n",
    "   $$\n",
    "2. Використовуючи цю функцію, обчисліть значення сигмоїди для наступних даних: $ z = [-2, -1, 0, 1, 2] $. Виведіть результат обчислень.\n"
   ]
  },
  {
   "cell_type": "code",
   "execution_count": 1,
   "metadata": {
    "ExecuteTime": {
     "end_time": "2025-01-28T14:38:56.270941Z",
     "start_time": "2025-01-28T14:38:55.807747Z"
    }
   },
   "outputs": [],
   "source": [
    "import numpy as np"
   ]
  },
  {
   "cell_type": "code",
   "execution_count": 2,
   "metadata": {
    "ExecuteTime": {
     "end_time": "2025-01-28T14:38:57.866293Z",
     "start_time": "2025-01-28T14:38:57.856302Z"
    }
   },
   "outputs": [],
   "source": [
    "def sigmoid(z):\n",
    "    y = 1 / (1 + 1 / np.exp(z))\n",
    "    return y"
   ]
  },
  {
   "cell_type": "code",
   "execution_count": 3,
   "metadata": {
    "ExecuteTime": {
     "end_time": "2025-01-28T14:38:59.740912Z",
     "start_time": "2025-01-28T14:38:59.720014Z"
    }
   },
   "outputs": [
    {
     "data": {
      "text/plain": [
       "array([0.11920292, 0.26894142, 0.5       , 0.73105858, 0.88079708])"
      ]
     },
     "execution_count": 3,
     "metadata": {},
     "output_type": "execute_result"
    }
   ],
   "source": [
    "sigmoid([-2, -1, 0, 1, 2])"
   ]
  },
  {
   "cell_type": "markdown",
   "metadata": {
    "id": "LVd_jCGNCR1F"
   },
   "source": [
    "\n",
    "\n",
    "#### Завдання 2: Реалізація функції гіпотези для логістичної регресії\n",
    "1. Напишіть функцію `hypothesis(theta, X)`, яка обчислює гіпотезу для логістичної регресії, використовуючи функцію сигмоїди. Формула гіпотези:\n",
    "   $$\n",
    "   h_\\theta(x) = \\sigma(\\theta^T x) = \\frac{1}{1 + e^{-\\theta^T x}}\n",
    "   $$\n",
    "2. Використайте функцію `hypothesis` для обчислення значень гіпотези для наступних даних:\n",
    "   \n",
    "   $\\theta = [0.5, -0.5]$\n",
    "   \n",
    "   $X = \\begin{bmatrix} 1 & 2 \\\\ 1 & -1 \\\\ 1 & 0 \\\\ 1 & 1 \\end{bmatrix}$\n",
    "\n",
    "  Виведіть результат обчислень.\n"
   ]
  },
  {
   "cell_type": "code",
   "execution_count": 4,
   "metadata": {
    "ExecuteTime": {
     "end_time": "2025-01-28T14:39:04.147167Z",
     "start_time": "2025-01-28T14:39:04.143211Z"
    },
    "id": "dKDHv-YtL3TA"
   },
   "outputs": [],
   "source": [
    "def hypothesis(theta, X):\n",
    "    z = np.dot(X, theta.T)\n",
    "    y = sigmoid(z)\n",
    "    return y"
   ]
  },
  {
   "cell_type": "code",
   "execution_count": 5,
   "metadata": {
    "ExecuteTime": {
     "end_time": "2025-01-28T14:39:10.617884Z",
     "start_time": "2025-01-28T14:39:10.604913Z"
    }
   },
   "outputs": [
    {
     "data": {
      "text/plain": [
       "array([0.37754067, 0.73105858, 0.62245933, 0.5       ])"
      ]
     },
     "execution_count": 5,
     "metadata": {},
     "output_type": "execute_result"
    }
   ],
   "source": [
    "theta = np.array([0.5, -0.5])\n",
    "X = np.array([[1,2], [1,-1], [1, 0], [1, 1]])\n",
    "hypothesis(theta, X)"
   ]
  },
  {
   "cell_type": "markdown",
   "metadata": {
    "id": "MWASH4Z4ClTo"
   },
   "source": [
    "#### Завдання 3: Реалізація функції для підрахунку градієнтів фукнції втрат\n",
    "1. Напишіть функцію `compute_gradient(theta, X, y)`, яка обчислює градієнти функції втрат для логістичної регресії. Формула для обчислення градієнта:\n",
    "   $$\n",
    "   \\frac{\\partial L(\\theta)}{\\partial \\theta_j} = \\frac{1}{m} \\sum_{i=1}^{m} \\left[ (h_\\theta(x^{(i)}) - y^{(i)}) x_j^{(i)} \\right]\n",
    "   $$\n",
    "2. Використайте функцію `compute_gradient` для обчислення градієнтів для наступних даних:\n",
    "\n",
    "  $\\theta = [0.5, -0.5]$\n",
    "\n",
    "  $X = \\begin{bmatrix} 1 & 2 \\\\ 1 & -1 \\\\ 1 & 0 \\\\ 1 & 1 \\end{bmatrix}$\n",
    "\n",
    "  $y = [1, 0, 1, 0]$\n",
    "\n",
    "  Виведіть результат обчислень."
   ]
  },
  {
   "cell_type": "code",
   "execution_count": 6,
   "metadata": {
    "ExecuteTime": {
     "end_time": "2025-01-28T14:39:19.209897Z",
     "start_time": "2025-01-28T14:39:19.189821Z"
    }
   },
   "outputs": [],
   "source": [
    "def compute_gradient(theta, X, y):\n",
    "    m = X.shape[0]\n",
    "    h = hypothesis(theta, X)\n",
    "    g = np.dot(h - y, X) / m\n",
    "    return g"
   ]
  },
  {
   "cell_type": "code",
   "execution_count": 7,
   "metadata": {
    "ExecuteTime": {
     "end_time": "2025-01-28T14:39:20.572301Z",
     "start_time": "2025-01-28T14:39:20.560234Z"
    }
   },
   "outputs": [],
   "source": [
    "theta = np.array([0.5, -0.5])\n",
    "X = np.array([[1,2], [1,-1], [1, 0], [1, 1]])\n",
    "y = np.array([1, 0, 1, 0])"
   ]
  },
  {
   "cell_type": "code",
   "execution_count": 8,
   "metadata": {
    "ExecuteTime": {
     "end_time": "2025-01-28T14:39:21.662450Z",
     "start_time": "2025-01-28T14:39:21.644937Z"
    },
    "id": "0DM4xqZCL32i"
   },
   "outputs": [
    {
     "data": {
      "text/plain": [
       "array([ 0.05776464, -0.36899431])"
      ]
     },
     "execution_count": 8,
     "metadata": {},
     "output_type": "execute_result"
    }
   ],
   "source": [
    "compute_gradient(theta, X, y)"
   ]
  },
  {
   "cell_type": "markdown",
   "metadata": {
    "id": "nOtJEtdnC1K9"
   },
   "source": [
    "\n",
    "#### Завдання 4: Реалізація повного батч градієнтного спуску\n",
    "\n",
    "**Задача:**\n",
    "1. Напишіть функцію `full_batch_gradient_descent(X, y, lr=0.1, epochs=100)`, яка реалізує алгоритм Full градієнтного спуску для логістичної регресії. Використовуйте такі формули:\n",
    "   - Гіпотеза: $ h_\\theta(x) = \\sigma(\\theta^T x) $\n",
    "   - Оновлення параметрів: $ \\theta_j := \\theta_j - \\alpha \\frac{\\partial L(\\theta)}{\\partial \\theta_j} $\n",
    "2. Використайте функцію `full_batch_gradient_descent` для обчислення параметрів моделі на наступних даних:\n",
    "\n",
    "  $X = \\begin{bmatrix} 1 & 2 \\\\ 1 & -1 \\\\ 1 & 0 \\\\ 1 & 1 \\end{bmatrix}$\n",
    "\n",
    "  $y = [1, 0, 1, 0]$\n",
    "\n",
    "  Увага! Матриця $X$ вже має стовпець одиниць і передбачається, що це. - стовпець для intercept - параметра зсуву.\n",
    "\n",
    "  Виведіть результат обчислень.\n"
   ]
  },
  {
   "cell_type": "code",
   "execution_count": 9,
   "metadata": {
    "ExecuteTime": {
     "end_time": "2025-01-28T14:39:28.763189Z",
     "start_time": "2025-01-28T14:39:28.744680Z"
    }
   },
   "outputs": [],
   "source": [
    "def full_batch_gradient_descent(X, y, lr = 0.1, epochs = 100):\n",
    "    X = np.array([[1,2], [1,-1], [1, 0], [1, 1]])\n",
    "    y = np.array([1, 0, 1, 0])\n",
    "    theta = np.array([0.0, 0.0]) # початкові значення\n",
    "    for _ in range(epochs):\n",
    "        gradient = compute_gradient(theta, X, y)\n",
    "        theta[0] = theta[0] - lr * gradient[0]\n",
    "        theta[1] = theta[1] - lr * gradient[1]\n",
    "    return theta"
   ]
  },
  {
   "cell_type": "code",
   "execution_count": 10,
   "metadata": {
    "ExecuteTime": {
     "end_time": "2025-01-28T14:39:29.771577Z",
     "start_time": "2025-01-28T14:39:29.756173Z"
    }
   },
   "outputs": [
    {
     "data": {
      "text/plain": [
       "array([-0.2893693 ,  0.77655125])"
      ]
     },
     "execution_count": 10,
     "metadata": {},
     "output_type": "execute_result"
    }
   ],
   "source": [
    "predict_theta = full_batch_gradient_descent(X, y)\n",
    "predict_theta"
   ]
  },
  {
   "cell_type": "markdown",
   "metadata": {
    "id": "E4iZV55cE5f3"
   },
   "source": [
    "#### Завдання 5. Обчислення точності моделі\n",
    "\n",
    "1. Напишіть функцію `predict_proba(theta, X)`, яка використовує знайдені параметри $\\theta$ для обчислення ймовірностей належності поточного прикладу з даних до класу $y=1$ на основі значень $\\sigma(\\theta^T x)$.\n",
    "\n",
    "2. Напишіть функцію `predict(theta, X, threshold=0.5)`, яка обчислює клас з передбаченої імовірності належності екземпляра до класу 1 з порогом 0.5. Тобто якщо ймовірність менше 0.5, то передбачаємо клас 0, інакше клас 1.\n",
    "\n",
    "3. Напишіть функцію `accuracy(y_true, y_pred)`, яка обчислює точність моделі, визначивши частку правильно передбачених класів.\n",
    "\n",
    "  Формула метрики Accuracy:\n",
    "  $$\n",
    "  \\text{Accuracy} = \\frac{\\sum_{i=1}^{m} I(\\hat{{y}^{(i)}} = y^{(i)})}{m}\n",
    "  $$\n",
    "\n",
    "  де $\\hat{{y}^{(i)}}$ - передбачене значення класу, $I$ - індикаторна функція (яка дорівнює 1, якщо умова виконується, і 0 - якщо ні), $m$ - кількість прикладів.\n",
    "\n",
    "4. Обчисліть з використанням даних в завданні 4 $X$, $y$ та обчислених коефіцієнтах $\\theta$ та виведіть на екран:\n",
    "  - передбачені моделлю імовірності належності кожного з екземплярів в матриці `X` до класу 1\n",
    "  - класи кожного екземпляра з матриці `X`\n",
    "  - точність моделі."
   ]
  },
  {
   "cell_type": "code",
   "execution_count": 11,
   "metadata": {
    "ExecuteTime": {
     "end_time": "2025-01-28T14:39:37.755123Z",
     "start_time": "2025-01-28T14:39:37.749081Z"
    },
    "id": "85ZZfPtjrsai"
   },
   "outputs": [],
   "source": [
    "# Функція для обчислення ймовірностей належності кожного з екземплярів в матриці Х до класу 1 при знайдених параметрах theta\n",
    "\n",
    "def predict_proba(theta, X):\n",
    "    h = hypothesis(theta, X)\n",
    "    return h"
   ]
  },
  {
   "cell_type": "code",
   "execution_count": 12,
   "metadata": {
    "ExecuteTime": {
     "end_time": "2025-01-28T14:39:39.110500Z",
     "start_time": "2025-01-28T14:39:39.097417Z"
    }
   },
   "outputs": [],
   "source": [
    "# Функція для визначення класу кожного екземпляра з матриці Х з передбаченої ймовірності належності екземпляра до класу 1\n",
    "\n",
    "def predict(theta, X, threshold = 0.5):\n",
    "    predict_class = []\n",
    "    predicts = predict_proba(predict_theta, X)\n",
    "    for predict in predicts:\n",
    "        if predict < threshold:\n",
    "            predict_class.append(0)\n",
    "        else:\n",
    "            predict_class.append(1)\n",
    "    return predict_class"
   ]
  },
  {
   "cell_type": "code",
   "execution_count": 13,
   "metadata": {
    "ExecuteTime": {
     "end_time": "2025-01-28T14:39:39.857611Z",
     "start_time": "2025-01-28T14:39:39.836875Z"
    }
   },
   "outputs": [],
   "source": [
    "# Функція для обчислення точності моделі як частки правильно передбачених класів \n",
    "\n",
    "def accuracy(y_true, y_pred):\n",
    "    indicator = []\n",
    "    m = len(y) # величина набору\n",
    "    for i in range(0, m):\n",
    "        if y_pred[i] == y[i]:\n",
    "            indicator.append(1)\n",
    "        else:\n",
    "            indicator.append(0)\n",
    "    a = sum(indicator) / m\n",
    "    return a"
   ]
  },
  {
   "cell_type": "code",
   "execution_count": 14,
   "metadata": {
    "ExecuteTime": {
     "end_time": "2025-01-28T14:39:41.576298Z",
     "start_time": "2025-01-28T14:39:41.566302Z"
    }
   },
   "outputs": [
    {
     "data": {
      "text/plain": [
       "array([0.77966809, 0.25617965, 0.42815828, 0.61944235])"
      ]
     },
     "execution_count": 14,
     "metadata": {},
     "output_type": "execute_result"
    }
   ],
   "source": [
    "# Обчислення ймовірностей належності кожного з екземплярів в матриці Х до класу 1 при знайдених параметрах theta\n",
    "predict_proba(predict_theta, X)"
   ]
  },
  {
   "cell_type": "code",
   "execution_count": 15,
   "metadata": {
    "ExecuteTime": {
     "end_time": "2025-01-28T14:39:42.927523Z",
     "start_time": "2025-01-28T14:39:42.917025Z"
    }
   },
   "outputs": [
    {
     "data": {
      "text/plain": [
       "[1, 0, 0, 1]"
      ]
     },
     "execution_count": 15,
     "metadata": {},
     "output_type": "execute_result"
    }
   ],
   "source": [
    "# Визначення класу кожного екземпляра з матриці Х з передбаченої ймовірності належності екземпляра до класу 1\n",
    "y_pred = predict(predict_theta, X, threshold = 0.5)\n",
    "y_pred"
   ]
  },
  {
   "cell_type": "code",
   "execution_count": 16,
   "metadata": {
    "ExecuteTime": {
     "end_time": "2025-01-28T14:39:44.056455Z",
     "start_time": "2025-01-28T14:39:44.039311Z"
    }
   },
   "outputs": [
    {
     "data": {
      "text/plain": [
       "0.5"
      ]
     },
     "execution_count": 16,
     "metadata": {},
     "output_type": "execute_result"
    }
   ],
   "source": [
    "# Обчислення точності моделі як частки правильно передбачених класів\n",
    "accuracy(y, y_pred)"
   ]
  }
 ],
 "metadata": {
  "colab": {
   "provenance": []
  },
  "kernelspec": {
   "display_name": "Python 3 (ipykernel)",
   "language": "python",
   "name": "python3"
  },
  "language_info": {
   "codemirror_mode": {
    "name": "ipython",
    "version": 3
   },
   "file_extension": ".py",
   "mimetype": "text/x-python",
   "name": "python",
   "nbconvert_exporter": "python",
   "pygments_lexer": "ipython3",
   "version": "3.7.5"
  },
  "toc": {
   "base_numbering": 1,
   "nav_menu": {},
   "number_sections": true,
   "sideBar": true,
   "skip_h1_title": false,
   "title_cell": "Table of Contents",
   "title_sidebar": "Contents",
   "toc_cell": false,
   "toc_position": {},
   "toc_section_display": true,
   "toc_window_display": false
  }
 },
 "nbformat": 4,
 "nbformat_minor": 1
}
